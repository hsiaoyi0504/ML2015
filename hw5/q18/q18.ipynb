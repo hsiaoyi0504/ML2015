{
 "cells": [
  {
   "cell_type": "code",
   "execution_count": 24,
   "metadata": {
    "collapsed": true
   },
   "outputs": [],
   "source": [
    "#python2\n",
    "%matplotlib inline\n",
    "from svmutil import *\n",
    "import numpy as np\n",
    "import matplotlib.pyplot as plt\n",
    "import math as math"
   ]
  },
  {
   "cell_type": "code",
   "execution_count": 25,
   "metadata": {
    "collapsed": false
   },
   "outputs": [],
   "source": [
    "x=[]\n",
    "y=[]\n",
    "dist=[]\n",
    "with open('../features.train') as f:\n",
    "    for line in f:\n",
    "        for i,value in enumerate(line.split()):\n",
    "            if i==0:\n",
    "                if float(value)==0:\n",
    "                    y.append(float(1))\n",
    "                else:\n",
    "                    y.append(float(-1))\n",
    "            else:\n",
    "                x.append(float(value))\n",
    "    f.close()"
   ]
  },
  {
   "cell_type": "code",
   "execution_count": 26,
   "metadata": {
    "collapsed": false
   },
   "outputs": [],
   "source": [
    "x=np.array(x)\n",
    "x=np.reshape(x,(-1,2))\n",
    "x=x.tolist()\n",
    "prob=svm_problem(y,x)\n",
    "\n",
    "param=svm_parameter('-t 2 -g 100 -c 0.001')\n",
    "m=svm_train(prob,param)\n",
    "support_vector_coefficients=m.get_sv_coef()\n",
    "support_vector_coefficients=np.array(support_vector_coefficients)\n",
    "dist.append(1/math.sqrt(2*(-2.380633+sum(abs(support_vector_coefficients)))))\n",
    "\n",
    "param=svm_parameter('-t 2 -g 100 -c 0.01')\n",
    "m=svm_train(prob,param)\n",
    "support_vector_coefficients=m.get_sv_coef()\n",
    "support_vector_coefficients=np.array(support_vector_coefficients)\n",
    "dist.append(1/math.sqrt(2*(-23.144993+sum(abs(support_vector_coefficients)))))\n",
    "\n",
    "param=svm_parameter('-t 2 -g 100 -c 0.1')\n",
    "m=svm_train(prob,param)\n",
    "support_vector_coefficients=m.get_sv_coef()\n",
    "support_vector_coefficients=np.array(support_vector_coefficients)\n",
    "dist.append(1/math.sqrt(2*(-178.198592+sum(abs(support_vector_coefficients)))))\n",
    "\n",
    "param=svm_parameter('-t 2 -g 100 -c 1')\n",
    "m=svm_train(prob,param)\n",
    "support_vector_coefficients=m.get_sv_coef()\n",
    "support_vector_coefficients=np.array(support_vector_coefficients)\n",
    "dist.append(1/math.sqrt(2*(-1401.258805+sum(abs(support_vector_coefficients)))))\n",
    "\n",
    "param=svm_parameter('-t 2 -g 100 -c 10')\n",
    "m=svm_train(prob,param)\n",
    "support_vector_coefficients=m.get_sv_coef()\n",
    "support_vector_coefficients=np.array(support_vector_coefficients)\n",
    "dist.append(1/math.sqrt(2*(-13027.302689+sum(abs(support_vector_coefficients)))))"
   ]
  },
  {
   "cell_type": "code",
   "execution_count": 27,
   "metadata": {
    "collapsed": false
   },
   "outputs": [
    {
     "data": {
      "text/plain": [
       "<matplotlib.text.Text at 0x10ae39610>"
      ]
     },
     "execution_count": 27,
     "metadata": {},
     "output_type": "execute_result"
    },
    {
     "data": {
      "image/png": "[encoded data removed]",
      "text/plain": [
       "<matplotlib.figure.Figure at 0x10b1abe50>"
      ]
     },
     "metadata": {},
     "output_type": "display_data"
    }
   ],
   "source": [
    "c=[0.001, 0.01,0.1,1,10]\n",
    "c=np.array(c)\n",
    "fig=plt.figure()\n",
    "ax=plt.gca()\n",
    "ax.plot(c,dist,'o',alpha=0.5,markeredgecolor='none')\n",
    "ax.set_xscale('log')\n",
    "plt.ylabel('Distance')\n",
    "plt.xlabel('C')"
   ]
  }
 ],
 "metadata": {
  "kernelspec": {
   "display_name": "Python 2",
   "language": "python",
   "name": "python2"
  },
  "language_info": {
   "codemirror_mode": {
    "name": "ipython",
    "version": 2
   },
   "file_extension": ".py",
   "mimetype": "text/x-python",
   "name": "python",
   "nbconvert_exporter": "python",
   "pygments_lexer": "ipython2",
   "version": "2.7.10"
  }
 },
 "nbformat": 4,
 "nbformat_minor": 0
}
