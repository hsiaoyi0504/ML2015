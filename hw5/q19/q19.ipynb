{
 "cells": [
  {
   "cell_type": "code",
   "execution_count": 17,
   "metadata": {
    "collapsed": true
   },
   "outputs": [],
   "source": [
    "#python2\n",
    "%matplotlib inline\n",
    "from svmutil import *\n",
    "import numpy as np\n",
    "import matplotlib.pyplot as plt"
   ]
  },
  {
   "cell_type": "code",
   "execution_count": 18,
   "metadata": {
    "collapsed": true
   },
   "outputs": [],
   "source": [
    "dimensions=3"
   ]
  },
  {
   "cell_type": "code",
   "execution_count": 19,
   "metadata": {
    "collapsed": false
   },
   "outputs": [],
   "source": [
    "x=[]\n",
    "y=[]\n",
    "with open('../features.train') as f:\n",
    "    for line in f:\n",
    "        for i,value in enumerate(line.split()):\n",
    "            if i==0:\n",
    "                if float(value)==0:\n",
    "                    y.append(float(1))\n",
    "                else:\n",
    "                    y.append(float(-1))\n",
    "            else:\n",
    "                x.append(float(value))\n",
    "    f.close()"
   ]
  },
  {
   "cell_type": "code",
   "execution_count": 20,
   "metadata": {
    "collapsed": false
   },
   "outputs": [],
   "source": [
    "x2=[]\n",
    "y2=[]\n",
    "Eout=[]\n",
    "with open('../features.test') as f:\n",
    "    for line in f:\n",
    "        for i,value in enumerate(line.split()):\n",
    "            if i==0:\n",
    "                if float(value)==0:\n",
    "                    y2.append(float(1))\n",
    "                else:\n",
    "                    y2.append(float(-1))\n",
    "            else:\n",
    "                x2.append(float(value))\n",
    "    f.close()"
   ]
  },
  {
   "cell_type": "code",
   "execution_count": 21,
   "metadata": {
    "collapsed": false
   },
   "outputs": [
    {
     "name": "stdout",
     "output_type": "stream",
     "text": [
      "Accuracy = 89.2875% (1792/2007) (classification)\n",
      "Accuracy = 90.0847% (1808/2007) (classification)\n",
      "Accuracy = 89.4868% (1796/2007) (classification)\n",
      "Accuracy = 82.1126% (1648/2007) (classification)\n",
      "Accuracy = 82.1126% (1648/2007) (classification)\n"
     ]
    }
   ],
   "source": [
    "x=np.array(x)\n",
    "x=np.reshape(x,(-1,2))\n",
    "x=x.tolist()\n",
    "x2=np.array(x2)\n",
    "x2=np.reshape(x2,(-1,2))\n",
    "x2=x2.tolist()\n",
    "\n",
    "prob=svm_problem(y,x)\n",
    "\n",
    "param=svm_parameter('-t 2 -g 1 -c 0.1')\n",
    "m=svm_train(prob,param)\n",
    "p_label, p_acc, p_val = svm_predict(y2, x2, m, '-b 0')\n",
    "Eout.append(p_acc[0])\n",
    "\n",
    "\n",
    "param=svm_parameter('-t 2 -g 10 -c 0.1')\n",
    "m=svm_train(prob,param)\n",
    "p_label, p_acc, p_val = svm_predict(y2, x2, m, '-b 0')\n",
    "Eout.append(p_acc[0])\n",
    "\n",
    "param=svm_parameter('-t 2 -g 100 -c 0.1')\n",
    "m=svm_train(prob,param)\n",
    "p_label, p_acc, p_val = svm_predict(y2, x2, m, '-b 0')\n",
    "Eout.append(p_acc[0])\n",
    "\n",
    "param=svm_parameter('-t 2 -g 1000 -c 0.1')\n",
    "m=svm_train(prob,param)\n",
    "p_label, p_acc, p_val = svm_predict(y2, x2, m, '-b 0')\n",
    "Eout.append(p_acc[0])\n",
    "\n",
    "param=svm_parameter('-t 2 -g 10000 -c 0.1')\n",
    "m=svm_train(prob,param)\n",
    "p_label, p_acc, p_val = svm_predict(y2, x2, m, '-b 0')\n",
    "Eout.append(p_acc[0])\n"
   ]
  },
  {
   "cell_type": "code",
   "execution_count": 22,
   "metadata": {
    "collapsed": false
   },
   "outputs": [
    {
     "data": {
      "text/plain": [
       "<matplotlib.text.Text at 0x1112f6050>"
      ]
     },
     "execution_count": 22,
     "metadata": {},
     "output_type": "execute_result"
    },
    {
     "data": {
      "image/png": "[encoded data removed]",
      "text/plain": [
       "<matplotlib.figure.Figure at 0x111912cd0>"
      ]
     },
     "metadata": {},
     "output_type": "display_data"
    }
   ],
   "source": [
    "gamma=[1, 10,100,1000,10000]\n",
    "gamma=np.array(gamma)\n",
    "Eout=np.array(Eout)\n",
    "Eout=(100-Eout)/100\n",
    "fig=plt.figure()\n",
    "ax=plt.gca()\n",
    "ax.plot(gamma,Eout,'o',alpha=0.5,markeredgecolor='none')\n",
    "ax.set_xscale('log')\n",
    "plt.ylabel('Eout')\n",
    "plt.xlabel('gamma')"
   ]
  }
 ],
 "metadata": {
  "kernelspec": {
   "display_name": "Python 2",
   "language": "python",
   "name": "python2"
  },
  "language_info": {
   "codemirror_mode": {
    "name": "ipython",
    "version": 2
   },
   "file_extension": ".py",
   "mimetype": "text/x-python",
   "name": "python",
   "nbconvert_exporter": "python",
   "pygments_lexer": "ipython2",
   "version": "2.7.10"
  }
 },
 "nbformat": 4,
 "nbformat_minor": 0
}
