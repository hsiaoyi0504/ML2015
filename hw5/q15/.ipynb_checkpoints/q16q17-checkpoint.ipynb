{
 "cells": [
  {
   "cell_type": "code",
   "execution_count": 84,
   "metadata": {
    "collapsed": true
   },
   "outputs": [],
   "source": [
    "#python2\n",
    "%matplotlib inline\n",
    "from svmutil import *\n",
    "import numpy as np\n",
    "import matplotlib.pyplot as plt"
   ]
  },
  {
   "cell_type": "code",
   "execution_count": 85,
   "metadata": {
    "collapsed": true
   },
   "outputs": [],
   "source": [
    "dimensions=3"
   ]
  },
  {
   "cell_type": "code",
   "execution_count": 86,
   "metadata": {
    "collapsed": false
   },
   "outputs": [],
   "source": [
    "x=[]\n",
    "y=[]\n",
    "Ein=[]\n",
    "sumAlpha=[]\n",
    "with open('../features.train') as f:\n",
    "    for line in f:\n",
    "        for i,value in enumerate(line.split()):\n",
    "            if i==0:\n",
    "                if float(value)==8:\n",
    "                    y.append(float(1))\n",
    "                else:\n",
    "                    y.append(float(-1))\n",
    "            else:\n",
    "                x.append(float(value))\n",
    "    f.close()"
   ]
  },
  {
   "cell_type": "code",
   "execution_count": 87,
   "metadata": {
    "collapsed": false
   },
   "outputs": [
    {
     "name": "stdout",
     "output_type": "stream",
     "text": [
      "Accuracy = 92.5662% (6749/7291) (classification)\n",
      "Accuracy = 92.5662% (6749/7291) (classification)\n",
      "Accuracy = 92.5662% (6749/7291) (classification)\n",
      "Accuracy = 92.5662% (6749/7291) (classification)\n",
      "Accuracy = 92.5662% (6749/7291) (classification)\n"
     ]
    }
   ],
   "source": [
    "x=np.array(x)\n",
    "x=np.reshape(x,(-1,2))\n",
    "x=x.tolist()\n",
    "prob=svm_problem(y,x)\n",
    "\n",
    "param=svm_parameter('-t 1 -g 1 -d 2 -r 1 -c 0.000001')\n",
    "m=svm_train(prob,param)\n",
    "support_vector_coefficients=m.get_sv_coef()\n",
    "p_label, p_acc, p_val = svm_predict(y, x, m, '-b 0')\n",
    "Ein.append(p_acc[0])\n",
    "support_vector_coefficients=np.array(support_vector_coefficients)\n",
    "sumAlpha.append(sum(abs(support_vector_coefficients)))\n",
    "\n",
    "param=svm_parameter('-t 1 -g 1 -d 2 -r 1 -c 0.0001')\n",
    "m=svm_train(prob,param)\n",
    "support_vector_coefficients=m.get_sv_coef()\n",
    "p_label, p_acc, p_val = svm_predict(y, x, m, '-b 0')\n",
    "Ein.append(p_acc[0])\n",
    "support_vector_coefficients=np.array(support_vector_coefficients)\n",
    "sumAlpha.append(sum(abs(support_vector_coefficients)))\n",
    "\n",
    "param=svm_parameter('-t 1 -g 1 -d 2 -r 1 -c 0.01')\n",
    "m=svm_train(prob,param)\n",
    "support_vector_coefficients=m.get_sv_coef()\n",
    "p_label, p_acc, p_val = svm_predict(y, x, m, '-b 0')\n",
    "Ein.append(p_acc[0])\n",
    "support_vector_coefficients=np.array(support_vector_coefficients)\n",
    "sumAlpha.append(sum(abs(support_vector_coefficients)))\n",
    "\n",
    "param=svm_parameter('-t 1 -g 1 -d 2 -r 1 -c 1')\n",
    "m=svm_train(prob,param)\n",
    "support_vector_coefficients=m.get_sv_coef()\n",
    "p_label, p_acc, p_val = svm_predict(y, x, m, '-b 0')\n",
    "Ein.append(p_acc[0])\n",
    "support_vector_coefficients=np.array(support_vector_coefficients)\n",
    "sumAlpha.append(sum(abs(support_vector_coefficients)))\n",
    "\n",
    "param=svm_parameter('-t 1 -g 1 -d 2 -r 1 -c 100')\n",
    "m=svm_train(prob,param)\n",
    "support_vector_coefficients=m.get_sv_coef()\n",
    "p_label, p_acc, p_val = svm_predict(y, x, m, '-b 0')\n",
    "Ein.append(p_acc[0])\n",
    "support_vector_coefficients=np.array(support_vector_coefficients)\n",
    "sumAlpha.append(sum(abs(support_vector_coefficients)))\n"
   ]
  },
  {
   "cell_type": "code",
   "execution_count": 88,
   "metadata": {
    "collapsed": false
   },
   "outputs": [
    {
     "data": {
      "text/plain": [
       "<matplotlib.text.Text at 0x1097af090>"
      ]
     },
     "execution_count": 88,
     "metadata": {},
     "output_type": "execute_result"
    },
    {
     "data": {
      "image/png": "[encoded data removed]",
      "text/plain": [
       "<matplotlib.figure.Figure at 0x10946e9d0>"
      ]
     },
     "metadata": {},
     "output_type": "display_data"
    }
   ],
   "source": [
    "c=[0.000001, 0.0001,0.01,1,100]\n",
    "c=np.array(c)\n",
    "Ein=np.array(Ein)\n",
    "Ein=(100-Ein)/100\n",
    "fig=plt.figure()\n",
    "ax=plt.gca()\n",
    "ax.plot(c,Ein,'o',alpha=0.5,markeredgecolor='none')\n",
    "ax.set_xscale('log')\n",
    "plt.ylabel('Ein')\n",
    "plt.xlabel('C')"
   ]
  },
  {
   "cell_type": "code",
   "execution_count": 91,
   "metadata": {
    "collapsed": false
   },
   "outputs": [
    {
     "data": {
      "text/plain": [
       "<matplotlib.text.Text at 0x10a007710>"
      ]
     },
     "execution_count": 91,
     "metadata": {},
     "output_type": "execute_result"
    },
    {
     "data": {
      "image/png": "[encoded data removed]",
      "text/plain": [
       "<matplotlib.figure.Figure at 0x109b34610>"
      ]
     },
     "metadata": {},
     "output_type": "display_data"
    }
   ],
   "source": [
    "c=[0.000001, 0.0001,0.01,1,100]\n",
    "c=np.array(c)\n",
    "fig=plt.figure()\n",
    "ax=plt.gca()\n",
    "ax.plot(c,sumAlpha,'o',alpha=0.5,markeredgecolor='none')\n",
    "ax.set_xscale('log')\n",
    "plt.ylabel('sum(alpha_n)')\n",
    "plt.xlabel('C')"
   ]
  },
  {
   "cell_type": "code",
   "execution_count": 93,
   "metadata": {
    "collapsed": false
   },
   "outputs": [
    {
     "name": "stdout",
     "output_type": "stream",
     "text": [
      "[array([ 0.001084]), array([ 0.1084]), array([ 10.84]), array([ 1084.]), array([ 108400.])]\n"
     ]
    }
   ],
   "source": [
    "print sumAlpha"
   ]
  },
  {
   "cell_type": "code",
   "execution_count": null,
   "metadata": {
    "collapsed": true
   },
   "outputs": [],
   "source": []
  }
 ],
 "metadata": {
  "kernelspec": {
   "display_name": "Python 2",
   "language": "python",
   "name": "python2"
  },
  "language_info": {
   "codemirror_mode": {
    "name": "ipython",
    "version": 2
   },
   "file_extension": ".py",
   "mimetype": "text/x-python",
   "name": "python",
   "nbconvert_exporter": "python",
   "pygments_lexer": "ipython2",
   "version": "2.7.10"
  }
 },
 "nbformat": 4,
 "nbformat_minor": 0
}
