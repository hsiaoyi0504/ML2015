{
 "cells": [
  {
   "cell_type": "code",
   "execution_count": 6,
   "metadata": {
    "collapsed": true
   },
   "outputs": [],
   "source": [
    "#python2\n",
    "%matplotlib inline\n",
    "from svmutil import *\n",
    "import numpy as np\n",
    "import matplotlib.pyplot as plt\n",
    "import math as math"
   ]
  },
  {
   "cell_type": "code",
   "execution_count": 7,
   "metadata": {
    "collapsed": true
   },
   "outputs": [],
   "source": [
    "dimensions=3"
   ]
  },
  {
   "cell_type": "code",
   "execution_count": 8,
   "metadata": {
    "collapsed": false
   },
   "outputs": [],
   "source": [
    "x=[]\n",
    "y=[]\n",
    "lengthW=[]\n",
    "with open('../features.train') as f:\n",
    "    for line in f:\n",
    "        for i,value in enumerate(line.split()):\n",
    "            if i==0:\n",
    "                if float(value)==0:\n",
    "                    y.append(float(1))\n",
    "                else:\n",
    "                    y.append(float(-1))\n",
    "            else:\n",
    "                x.append(float(value))\n",
    "    f.close()"
   ]
  },
  {
   "cell_type": "code",
   "execution_count": 9,
   "metadata": {
    "collapsed": false
   },
   "outputs": [],
   "source": [
    "x=np.array(x)\n",
    "x=np.reshape(x,(-1,2))\n",
    "x=x.tolist()\n",
    "prob=svm_problem(y,x)\n",
    "\n",
    "param=svm_parameter('-t 0 -c 0.000001')\n",
    "m=svm_train(prob,param)\n",
    "support_vector_coefficients=m.get_sv_coef()\n",
    "support_vector=m.get_SV()\n",
    "support_vector_coefficients=np.array(support_vector_coefficients)\n",
    "for i in range(len(support_vector)):\n",
    "    support_vector[i]= [support_vector[i][1], support_vector[i][2]]\n",
    "support_vector=np.array(support_vector)\n",
    "w=support_vector_coefficients*support_vector\n",
    "length=[0,0]\n",
    "for i in range(len(w)):\n",
    "    length+=w[i]\n",
    "lengthW.append(math.sqrt(length[0] ** 2 + length[1] ** 2))\n",
    "\n",
    "\n",
    "param=svm_parameter('-t 0 -c 0.0001')\n",
    "m=svm_train(prob,param)\n",
    "support_vector_coefficients=m.get_sv_coef()\n",
    "support_vector=m.get_SV()\n",
    "support_vector_coefficients=np.array(support_vector_coefficients)\n",
    "for i in range(len(support_vector)):\n",
    "    support_vector[i]= [support_vector[i][1], support_vector[i][2]]\n",
    "support_vector=np.array(support_vector)\n",
    "w=support_vector_coefficients*support_vector\n",
    "length=[0,0]\n",
    "for i in range(len(w)):\n",
    "    length+=w[i]\n",
    "lengthW.append(math.sqrt(length[0] ** 2 + length[1] ** 2))\n",
    "\n",
    "\n",
    "param=svm_parameter('-t 0 -c 0.01')\n",
    "m=svm_train(prob,param)\n",
    "support_vector_coefficients=m.get_sv_coef()\n",
    "support_vector=m.get_SV()\n",
    "support_vector_coefficients=np.array(support_vector_coefficients)\n",
    "for i in range(len(support_vector)):\n",
    "    support_vector[i]= [support_vector[i][1], support_vector[i][2]]\n",
    "support_vector=np.array(support_vector)\n",
    "w=support_vector_coefficients*support_vector\n",
    "length=[0,0]\n",
    "for i in range(len(w)):\n",
    "    length+=w[i]\n",
    "lengthW.append(math.sqrt(length[0] ** 2 + length[1] ** 2))\n",
    "\n",
    "param=svm_parameter('-t 0 -c 1')\n",
    "m=svm_train(prob,param)\n",
    "support_vector_coefficients=m.get_sv_coef()\n",
    "support_vector=m.get_SV()\n",
    "support_vector_coefficients=np.array(support_vector_coefficients)\n",
    "for i in range(len(support_vector)):\n",
    "    support_vector[i]= [support_vector[i][1], support_vector[i][2]]\n",
    "support_vector=np.array(support_vector)\n",
    "w=support_vector_coefficients*support_vector\n",
    "\n",
    "length=[0,0]\n",
    "for i in range(len(w)):\n",
    "    length+=w[i]\n",
    "lengthW.append(math.sqrt(length[0] ** 2 + length[1] ** 2))\n",
    "\n",
    "\n",
    "param=svm_parameter('-t 0 -c 100')\n",
    "m=svm_train(prob,param)\n",
    "support_vector_coefficients=m.get_sv_coef()\n",
    "support_vector=m.get_SV()\n",
    "support_vector_coefficients=np.array(support_vector_coefficients)\n",
    "for i in range(len(support_vector)):\n",
    "    support_vector[i]= [support_vector[i][1], support_vector[i][2]]\n",
    "support_vector=np.array(support_vector)\n",
    "w=support_vector_coefficients*support_vector\n",
    "\n",
    "length=[0,0]\n",
    "for i in range(len(w)):\n",
    "    length+=w[i]\n",
    "lengthW.append(math.sqrt(length[0] ** 2 + length[1] ** 2))"
   ]
  },
  {
   "cell_type": "code",
   "execution_count": 10,
   "metadata": {
    "collapsed": false
   },
   "outputs": [
    {
     "data": {
      "text/plain": [
       "<matplotlib.text.Text at 0x1044a55d0>"
      ]
     },
     "execution_count": 10,
     "metadata": {},
     "output_type": "execute_result"
    },
    {
     "data": {
      "image/png": "[encoded data removed]",
      "text/plain": [
       "<matplotlib.figure.Figure at 0x103d4a250>"
      ]
     },
     "metadata": {},
     "output_type": "display_data"
    }
   ],
   "source": [
    "c=[0.000001, 0.0001,0.01,1,100]\n",
    "c=np.array(c)\n",
    "fig=plt.figure()\n",
    "ax=plt.gca()\n",
    "ax.plot(c,lengthW,'o',alpha=0.5,markeredgecolor='none')\n",
    "ax.set_xscale('log')\n",
    "plt.ylabel('||w||')\n",
    "plt.xlabel('C')"
   ]
  }
 ],
 "metadata": {
  "kernelspec": {
   "display_name": "Python 2",
   "language": "python",
   "name": "python2"
  },
  "language_info": {
   "codemirror_mode": {
    "name": "ipython",
    "version": 2
   },
   "file_extension": ".py",
   "mimetype": "text/x-python",
   "name": "python",
   "nbconvert_exporter": "python",
   "pygments_lexer": "ipython2",
   "version": "2.7.10"
  }
 },
 "nbformat": 4,
 "nbformat_minor": 0
}
