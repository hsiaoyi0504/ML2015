{
 "cells": [
  {
   "cell_type": "code",
   "execution_count": 1,
   "metadata": {
    "collapsed": false
   },
   "outputs": [],
   "source": [
    "%matplotlib inline\n",
    "import numpy as np\n",
    "import matplotlib.pyplot as plt\n",
    "import matplotlib.patches as mpatches"
   ]
  },
  {
   "cell_type": "code",
   "execution_count": 2,
   "metadata": {
    "collapsed": true
   },
   "outputs": [],
   "source": [
    "def sign(num):\n",
    "    if num>0:\n",
    "        return 1\n",
    "    else:\n",
    "        return -1"
   ]
  },
  {
   "cell_type": "code",
   "execution_count": 3,
   "metadata": {
    "collapsed": true
   },
   "outputs": [],
   "source": [
    "dimensions=2\n",
    "regularizationWeighting=np.arange(-10,3,1,dtype=float)\n",
    "regularizationWeighting=10 ** regularizationWeighting\n",
    "x=[]\n",
    "for i in range(dimensions+1):\n",
    "    x.append([])\n",
    "y=[]"
   ]
  },
  {
   "cell_type": "code",
   "execution_count": 4,
   "metadata": {
    "collapsed": false
   },
   "outputs": [],
   "source": [
    "#read training data\n",
    "with open('../hw4_train.dat') as f:\n",
    "    for line in f:\n",
    "        for i,value in enumerate(line.split()):\n",
    "            if i<dimensions:\n",
    "                x[i+1].append(float(value))\n",
    "            else:\n",
    "                y.append(int(value))\n",
    "    f.close()\n",
    "x[0]=np.ones(len(x[1]))\n",
    "x=np.array(x)\n",
    "x_train=x[:,0:120]\n",
    "y_train=y[0:120]\n",
    "x_val=x[:,120:]\n",
    "y_val=y[120:]"
   ]
  },
  {
   "cell_type": "code",
   "execution_count": 5,
   "metadata": {
    "collapsed": true
   },
   "outputs": [],
   "source": [
    "#read testing data\n",
    "x_test=[]\n",
    "for i in range(dimensions+1):\n",
    "    x_test.append([])\n",
    "y_test=[]\n",
    "with open('../hw4_test.dat') as f:\n",
    "    for line in f:\n",
    "        for i,value in enumerate(line.split()):\n",
    "            if i<dimensions:\n",
    "                x_test[i+1].append(float(value))\n",
    "            else:\n",
    "                y_test.append(int(value))\n",
    "    f.close()\n",
    "x_test[0]=np.ones(len(x_test[1]))"
   ]
  },
  {
   "cell_type": "code",
   "execution_count": 6,
   "metadata": {
    "collapsed": true
   },
   "outputs": [],
   "source": [
    "EtrainRecord=[]\n",
    "EvalRecord=[]\n",
    "EoutRecord=[]"
   ]
  },
  {
   "cell_type": "code",
   "execution_count": 7,
   "metadata": {
    "collapsed": false
   },
   "outputs": [],
   "source": [
    "for k in range(len(regularizationWeighting)):\n",
    "    #training\n",
    "    x_train=np.matrix(x_train)\n",
    "    x_train=np.transpose(x_train)\n",
    "    y_train=np.matrix(y_train)\n",
    "    y_train=np.transpose(y_train)\n",
    "    w=np.linalg.inv(np.transpose(x_train)*x_train+regularizationWeighting[k]*np.identity(dimensions+1))* np.transpose(x_train) * y_train\n",
    "    #testing\n",
    "    x_train=np.transpose(x_train)\n",
    "    x_train=np.array(x_train)\n",
    "    Etrain=0\n",
    "    for i in range(len(x_train[2])):\n",
    "        result=0\n",
    "        for j in range(dimensions+1):\n",
    "            result+=w[j]*x_train[j][i]\n",
    "        if sign(result) !=  y_train[i]:\n",
    "            Etrain+=1\n",
    "    Etrain/=len(x_train[2])\n",
    "    EtrainRecord.append(Etrain)\n",
    "    #validation\n",
    "    Eval=0\n",
    "    for i in range(len(x_val[2])):\n",
    "        result=0\n",
    "        for j in range(dimensions+1):\n",
    "            result+=w[j]*x_val[j][i]\n",
    "        if sign(result) !=  y_val[i]:\n",
    "            Eval+=1\n",
    "    Eval/=len(x_val[2])\n",
    "    EvalRecord.append(Eval)\n",
    "    Eout=0\n",
    "    for i in range(len(x_test[2])):\n",
    "        result=0\n",
    "        for j in range(dimensions+1):\n",
    "            result+=w[j]*x_test[j][i]\n",
    "        if sign(result) != y_test[i]:\n",
    "            Eout+=1\n",
    "    Eout/=len(x_test[2])\n",
    "    EoutRecord.append(Eout)\n",
    "    y_train=np.transpose(y_train)"
   ]
  },
  {
   "cell_type": "code",
   "execution_count": 8,
   "metadata": {
    "collapsed": false
   },
   "outputs": [
    {
     "name": "stdout",
     "output_type": "stream",
     "text": [
      "Etrain: [0.008333333333333333, 0.0, 0.0, 0.03333333333333333, 0.03333333333333333, 0.03333333333333333, 0.03333333333333333, 0.03333333333333333, 0.03333333333333333, 0.03333333333333333, 0.03333333333333333, 0.075, 0.3416666666666667]\n",
      "Eval: [0.125, 0.1, 0.05, 0.0375, 0.0375, 0.0375, 0.0375, 0.0375, 0.0375, 0.0375, 0.0375, 0.125, 0.4125]\n",
      "Eout: [0.04, 0.038, 0.025, 0.021, 0.021, 0.021, 0.021, 0.021, 0.021, 0.022, 0.028, 0.08, 0.414]\n"
     ]
    }
   ],
   "source": [
    "print(\"Etrain:\",EtrainRecord)\n",
    "print(\"Eval:\",EvalRecord)\n",
    "print(\"Eout:\",EoutRecord)"
   ]
  },
  {
   "cell_type": "code",
   "execution_count": 9,
   "metadata": {
    "collapsed": false
   },
   "outputs": [
    {
     "data": {
      "text/plain": [
       "<matplotlib.text.Text at 0x102307590>"
      ]
     },
     "execution_count": 9,
     "metadata": {},
     "output_type": "execute_result"
    },
    {
     "data": {
      "image/png": "[encoded data removed]",
      "text/plain": [
       "<matplotlib.figure.Figure at 0x105907d90>"
      ]
     },
     "metadata": {},
     "output_type": "display_data"
    }
   ],
   "source": [
    "lineEtrain,=plt.semilogx(regularizationWeighting, EtrainRecord)\n",
    "lineEval,=plt.semilogx(regularizationWeighting, EvalRecord)\n",
    "lineEout,=plt.semilogx(regularizationWeighting, EoutRecord)\n",
    "plt.title(\"Etrain,Eval,Eout vs lambda\")\n",
    "plt.legend([lineEtrain, lineEval,lineEout], [\"Etrain\",\"Eval\" ,\"Eout\"])\n",
    "plt.xlabel(\"Lambda\")"
   ]
  }
 ],
 "metadata": {
  "kernelspec": {
   "display_name": "Python 3",
   "language": "python",
   "name": "python3"
  },
  "language_info": {
   "codemirror_mode": {
    "name": "ipython",
    "version": 3
   },
   "file_extension": ".py",
   "mimetype": "text/x-python",
   "name": "python",
   "nbconvert_exporter": "python",
   "pygments_lexer": "ipython3",
   "version": "3.3.5"
  }
 },
 "nbformat": 4,
 "nbformat_minor": 0
}
