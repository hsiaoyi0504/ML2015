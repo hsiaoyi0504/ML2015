{
 "cells": [
  {
   "cell_type": "code",
   "execution_count": 35,
   "metadata": {
    "collapsed": false
   },
   "outputs": [],
   "source": [
    "%matplotlib inline\n",
    "import numpy as np\n",
    "import matplotlib.pyplot as plt\n",
    "import matplotlib.patches as mpatches"
   ]
  },
  {
   "cell_type": "code",
   "execution_count": 36,
   "metadata": {
    "collapsed": true
   },
   "outputs": [],
   "source": [
    "def sign(num):\n",
    "    if num>0:\n",
    "        return 1\n",
    "    else:\n",
    "        return -1"
   ]
  },
  {
   "cell_type": "code",
   "execution_count": 37,
   "metadata": {
    "collapsed": true
   },
   "outputs": [],
   "source": [
    "dimensions=2\n",
    "regularizationWeighting=np.arange(-10,3,1,dtype=float)\n",
    "regularizationWeighting=10 ** regularizationWeighting\n",
    "x=[]\n",
    "for i in range(dimensions+1):\n",
    "    x.append([])\n",
    "y=[]"
   ]
  },
  {
   "cell_type": "code",
   "execution_count": 38,
   "metadata": {
    "collapsed": false
   },
   "outputs": [],
   "source": [
    "#read training data\n",
    "with open('../hw4_train.dat') as f:\n",
    "    for line in f:\n",
    "        for i,value in enumerate(line.split()):\n",
    "            if i<dimensions:\n",
    "                x[i+1].append(float(value))\n",
    "            else:\n",
    "                y.append(int(value))\n",
    "    f.close()\n",
    "x[0]=np.ones(len(x[1]))\n",
    "x=np.array(x)\n",
    "# x_train=x[:,0:120]\n",
    "# y_train=y[0:120]\n",
    "# x_val=x[:,120:]\n",
    "# y_val=y[120:]"
   ]
  },
  {
   "cell_type": "code",
   "execution_count": 39,
   "metadata": {
    "collapsed": true
   },
   "outputs": [],
   "source": [
    "EcvRecord=[]"
   ]
  },
  {
   "cell_type": "code",
   "execution_count": 40,
   "metadata": {
    "collapsed": false
   },
   "outputs": [],
   "source": [
    "for k in range(len(regularizationWeighting)):\n",
    "    Ecv=0\n",
    "    for i in range(5):\n",
    "        #training\n",
    "        x_train=x[:,0:i*40]\n",
    "        x_train=np.concatenate((x_train,x[:,(i+1)*40:]),1)\n",
    "        x_train=np.matrix(x_train)\n",
    "        y_train=y[0:i*40]\n",
    "        y_train=np.concatenate((y_train,y[(i+1)*40:]))\n",
    "        y_train=np.matrix(y_train)\n",
    "        x_train=np.transpose(x_train)\n",
    "        y_train=np.transpose(y_train)\n",
    "        x_val=x[:,i*40:(i+1)*40]\n",
    "        y_val=y[i*40:(i+1)*40]\n",
    "        w=np.linalg.inv(np.transpose(x_train)*x_train+regularizationWeighting[k]*np.identity(dimensions+1))* np.transpose(x_train) * y_train\n",
    "        #validation\n",
    "        for i in range(len(x_val[2])):\n",
    "            result=0\n",
    "            for j in range(dimensions+1):\n",
    "                result+=w[j]*x_val[j][i]\n",
    "            if sign(result) !=  y_val[i]:\n",
    "                Ecv+=1\n",
    "    Ecv/=len(x[2])\n",
    "    EcvRecord.append(Ecv)"
   ]
  },
  {
   "cell_type": "code",
   "execution_count": 41,
   "metadata": {
    "collapsed": false
   },
   "outputs": [
    {
     "name": "stdout",
     "output_type": "stream",
     "text": [
      "Ecv: [0.05, 0.05, 0.03, 0.035, 0.035, 0.035, 0.035, 0.035, 0.035, 0.035, 0.035, 0.06, 0.29]\n"
     ]
    }
   ],
   "source": [
    "print(\"Ecv:\",EcvRecord)"
   ]
  },
  {
   "cell_type": "code",
   "execution_count": 42,
   "metadata": {
    "collapsed": false
   },
   "outputs": [
    {
     "data": {
      "text/plain": [
       "<matplotlib.text.Text at 0x105e08ad0>"
      ]
     },
     "execution_count": 42,
     "metadata": {},
     "output_type": "execute_result"
    },
    {
     "data": {
      "image/png": "[encoded data removed]",
      "text/plain": [
       "<matplotlib.figure.Figure at 0x106416210>"
      ]
     },
     "metadata": {},
     "output_type": "display_data"
    }
   ],
   "source": [
    "lineEcv,=plt.semilogx(regularizationWeighting, EcvRecord)\n",
    "plt.title(\"Ecv vs lambda\")\n",
    "plt.legend([lineEcv], [\"Ecv\"])\n",
    "plt.xlabel(\"Lambda\")"
   ]
  }
 ],
 "metadata": {
  "kernelspec": {
   "display_name": "Python 3",
   "language": "python",
   "name": "python3"
  },
  "language_info": {
   "codemirror_mode": {
    "name": "ipython",
    "version": 3
   },
   "file_extension": ".py",
   "mimetype": "text/x-python",
   "name": "python",
   "nbconvert_exporter": "python",
   "pygments_lexer": "ipython3",
   "version": "3.3.5"
  }
 },
 "nbformat": 4,
 "nbformat_minor": 0
}
