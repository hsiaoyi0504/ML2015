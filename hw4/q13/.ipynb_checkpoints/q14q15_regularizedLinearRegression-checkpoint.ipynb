{
 "cells": [
  {
   "cell_type": "code",
   "execution_count": 153,
   "metadata": {
    "collapsed": false
   },
   "outputs": [],
   "source": [
    "%matplotlib inline\n",
    "import numpy as np\n",
    "import matplotlib.pyplot as plt\n",
    "import matplotlib.patches as mpatches"
   ]
  },
  {
   "cell_type": "code",
   "execution_count": 154,
   "metadata": {
    "collapsed": true
   },
   "outputs": [],
   "source": [
    "def sign(num):\n",
    "    if num>0:\n",
    "        return 1\n",
    "    else:\n",
    "        return -1"
   ]
  },
  {
   "cell_type": "code",
   "execution_count": 155,
   "metadata": {
    "collapsed": true
   },
   "outputs": [],
   "source": [
    "dimensions=2\n",
    "regularizationWeighting=np.arange(-10,3,1,dtype=float)\n",
    "regularizationWeighting=10 ** regularizationWeighting\n",
    "x=[]\n",
    "for i in range(dimensions+1):\n",
    "    x.append([])\n",
    "y=[]"
   ]
  },
  {
   "cell_type": "code",
   "execution_count": 156,
   "metadata": {
    "collapsed": false
   },
   "outputs": [],
   "source": [
    "#read training data\n",
    "with open('../hw4_train.dat') as f:\n",
    "    for line in f:\n",
    "        for i,value in enumerate(line.split()):\n",
    "            if i<dimensions:\n",
    "                x[i+1].append(float(value))\n",
    "            else:\n",
    "                y.append(int(value))\n",
    "    f.close()\n",
    "x[0]=np.ones(len(x[1]))"
   ]
  },
  {
   "cell_type": "code",
   "execution_count": 157,
   "metadata": {
    "collapsed": true
   },
   "outputs": [],
   "source": [
    "#read testing data\n",
    "x2=[]\n",
    "for i in range(dimensions+1):\n",
    "    x2.append([])\n",
    "y2=[]\n",
    "with open('../hw4_test.dat') as f:\n",
    "    for line in f:\n",
    "        for i,value in enumerate(line.split()):\n",
    "            if i<dimensions:\n",
    "                x2[i+1].append(float(value))\n",
    "            else:\n",
    "                y2.append(int(value))\n",
    "    f.close()\n",
    "x2[0]=np.ones(len(x2[1]))"
   ]
  },
  {
   "cell_type": "code",
   "execution_count": 158,
   "metadata": {
    "collapsed": true
   },
   "outputs": [],
   "source": [
    "EinRecord=[]\n",
    "EoutRecord=[]"
   ]
  },
  {
   "cell_type": "code",
   "execution_count": 159,
   "metadata": {
    "collapsed": false
   },
   "outputs": [],
   "source": [
    "for k in range(len(regularizationWeighting)):\n",
    "    #training\n",
    "    x=np.matrix(x)\n",
    "    x=np.transpose(x)\n",
    "    y=np.matrix(y)\n",
    "    y=np.transpose(y)\n",
    "    w=np.linalg.inv(np.transpose(x)*x+regularizationWeighting[k]*np.identity(dimensions+1)) * np.transpose(x) * y\n",
    "    #testing\n",
    "    x=np.transpose(x)\n",
    "    x=np.array(x)\n",
    "    Ein=0\n",
    "    for i in range(len(x[2])):\n",
    "        result=0\n",
    "        for j in range(dimensions+1):\n",
    "            result+=w[j]*x[j][i]\n",
    "        if sign(result) !=  y[i]:\n",
    "            Ein+=1\n",
    "    Ein/=len(x[2])\n",
    "    EinRecord.append(Ein)\n",
    "    Eout=0\n",
    "    for i in range(len(x2[2])):\n",
    "        result=0\n",
    "        for j in range(dimensions+1):\n",
    "            result+=w[j]*x2[j][i]\n",
    "        if sign(result) != y2[i]:\n",
    "            Eout+=1\n",
    "    Eout/=len(x2[2])\n",
    "    EoutRecord.append(Eout)\n",
    "    y=np.transpose(y)"
   ]
  },
  {
   "cell_type": "code",
   "execution_count": 160,
   "metadata": {
    "collapsed": false
   },
   "outputs": [
    {
     "name": "stdout",
     "output_type": "stream",
     "text": [
      "Ein: [0.015, 0.015, 0.015, 0.03, 0.035, 0.03, 0.03, 0.03, 0.03, 0.035, 0.035, 0.05, 0.24]\n",
      "Eout: [0.02, 0.02, 0.02, 0.015, 0.016, 0.016, 0.016, 0.016, 0.016, 0.016, 0.02, 0.045, 0.261]\n"
     ]
    }
   ],
   "source": [
    "print(\"Ein:\",EinRecord)\n",
    "print(\"Eout:\",EoutRecord)"
   ]
  },
  {
   "cell_type": "code",
   "execution_count": 161,
   "metadata": {
    "collapsed": false
   },
   "outputs": [
    {
     "data": {
      "text/plain": [
       "<matplotlib.text.Text at 0x107f2fd10>"
      ]
     },
     "execution_count": 161,
     "metadata": {},
     "output_type": "execute_result"
    },
    {
     "data": {
      "image/png": "[encoded data removed]",
      "text/plain": [
       "<matplotlib.figure.Figure at 0x107f29110>"
      ]
     },
     "metadata": {},
     "output_type": "display_data"
    }
   ],
   "source": [
    "lineEin,=plt.semilogx(regularizationWeighting, EinRecord)\n",
    "lineEout,=plt.semilogx(regularizationWeighting, EoutRecord)\n",
    "plt.title(\"Ein,Eout vs lambda\")\n",
    "plt.legend([lineEin, lineEout], ['Ein', 'Eout'])\n",
    "plt.xlabel(\"Lambda\")"
   ]
  }
 ],
 "metadata": {
  "kernelspec": {
   "display_name": "Python 3",
   "language": "python",
   "name": "python3"
  },
  "language_info": {
   "codemirror_mode": {
    "name": "ipython",
    "version": 3
   },
   "file_extension": ".py",
   "mimetype": "text/x-python",
   "name": "python",
   "nbconvert_exporter": "python",
   "pygments_lexer": "ipython3",
   "version": "3.3.5"
  }
 },
 "nbformat": 4,
 "nbformat_minor": 0
}
