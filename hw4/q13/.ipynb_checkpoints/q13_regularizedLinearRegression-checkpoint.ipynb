{
 "cells": [
  {
   "cell_type": "code",
   "execution_count": 1,
   "metadata": {
    "collapsed": false
   },
   "outputs": [],
   "source": [
    "import numpy as np"
   ]
  },
  {
   "cell_type": "code",
   "execution_count": 2,
   "metadata": {
    "collapsed": true
   },
   "outputs": [],
   "source": [
    "def sign(num):\n",
    "    if num>0:\n",
    "        return 1\n",
    "    else:\n",
    "        return -1"
   ]
  },
  {
   "cell_type": "code",
   "execution_count": 3,
   "metadata": {
    "collapsed": true
   },
   "outputs": [],
   "source": [
    "dimensions=2\n",
    "regularizationWeighting=11.26\n",
    "x=[]\n",
    "for i in range(dimensions+1):\n",
    "    x.append([])\n",
    "y=[]"
   ]
  },
  {
   "cell_type": "code",
   "execution_count": 4,
   "metadata": {
    "collapsed": false
   },
   "outputs": [],
   "source": [
    "#read training data\n",
    "with open('../hw4_train.dat') as f:\n",
    "    for line in f:\n",
    "        for i,value in enumerate(line.split()):\n",
    "            if i<dimensions:\n",
    "                x[i+1].append(float(value))\n",
    "            else:\n",
    "                y.append(int(value))\n",
    "    f.close()\n",
    "x[0]=np.ones(len(x[1]))"
   ]
  },
  {
   "cell_type": "code",
   "execution_count": 5,
   "metadata": {
    "collapsed": false
   },
   "outputs": [],
   "source": [
    "#training\n",
    "x=np.matrix(x)\n",
    "x=np.transpose(x)\n",
    "y=np.matrix(y)\n",
    "y=np.transpose(y)\n",
    "w=np.linalg.inv(np.transpose(x)*x+regularizationWeighting*np.identity(dimensions+1)) * np.transpose(x) * y"
   ]
  },
  {
   "cell_type": "code",
   "execution_count": 6,
   "metadata": {
    "collapsed": false
   },
   "outputs": [],
   "source": [
    "#read testing data\n",
    "x2=[]\n",
    "for i in range(dimensions+1):\n",
    "    x2.append([])\n",
    "y2=[]\n",
    "with open('../hw4_test.dat') as f:\n",
    "    for line in f:\n",
    "        for i,value in enumerate(line.split()):\n",
    "            if i<dimensions:\n",
    "                x2[i+1].append(float(value))\n",
    "            else:\n",
    "                y2.append(int(value))\n",
    "    f.close()\n",
    "x2[0]=np.ones(len(x2[1]))"
   ]
  },
  {
   "cell_type": "code",
   "execution_count": 7,
   "metadata": {
    "collapsed": false
   },
   "outputs": [],
   "source": [
    "#testing\n",
    "x=np.transpose(x)\n",
    "x=np.array(x)\n",
    "Ein=0\n",
    "for i in range(len(x[2])):\n",
    "    result=0\n",
    "    for j in range(dimensions+1):\n",
    "        result+=w[j]*x[j][i]\n",
    "    if sign(result) !=  y[i]:\n",
    "        Ein+=1\n",
    "Ein/=len(x[2])\n",
    "Eout=0\n",
    "for i in range(len(x2[2])):\n",
    "    result=0\n",
    "    for j in range(dimensions+1):\n",
    "        result+=w[j]*x2[j][i]\n",
    "    if sign(result) != y2[i]:\n",
    "        Eout+=1\n",
    "Eout/=len(x2[2])"
   ]
  },
  {
   "cell_type": "code",
   "execution_count": 8,
   "metadata": {
    "collapsed": false
   },
   "outputs": [
    {
     "name": "stdout",
     "output_type": "stream",
     "text": [
      "Ein: 0.055\n",
      "Eout: 0.052\n"
     ]
    }
   ],
   "source": [
    "print(\"Ein:\",Ein)\n",
    "print(\"Eout:\",Eout)"
   ]
  }
 ],
 "metadata": {
  "kernelspec": {
   "display_name": "Python 3",
   "language": "python",
   "name": "python3"
  },
  "language_info": {
   "codemirror_mode": {
    "name": "ipython",
    "version": 3
   },
   "file_extension": ".py",
   "mimetype": "text/x-python",
   "name": "python",
   "nbconvert_exporter": "python",
   "pygments_lexer": "ipython3",
   "version": "3.3.5"
  }
 },
 "nbformat": 4,
 "nbformat_minor": 0
}
