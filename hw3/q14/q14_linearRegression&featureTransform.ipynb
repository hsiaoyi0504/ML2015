{
 "cells": [
  {
   "cell_type": "code",
   "execution_count": 13,
   "metadata": {
    "collapsed": false
   },
   "outputs": [
    {
     "name": "stdout",
     "output_type": "stream",
     "text": [
      "Average w0: -0.9913778479221376\n",
      "Average w1: -0.0021476376572680963\n",
      "Average w2: -0.00131654506256778\n",
      "Average w3: -0.0027296093583452077\n",
      "Average w4: 1.5586987547191802\n",
      "Average w5: 1.5579887824640186\n"
     ]
    }
   ],
   "source": [
    "%matplotlib inline\n",
    "import random as rand\n",
    "import numpy as np\n",
    "import matplotlib.pyplot as plt\n",
    "def sign(num):\n",
    "    if num>0:\n",
    "        return 1\n",
    "    else:\n",
    "        return -1\n",
    "testTimes=1000\n",
    "w0Record=[]\n",
    "w1Record=[]\n",
    "w2Record=[]\n",
    "w3Record=[]\n",
    "w4Record=[]\n",
    "w5Record=[]\n",
    "N=1000\n",
    "for testTime in range(testTimes):\n",
    "    #generate traning set\n",
    "    x1=[]\n",
    "    x2=[]\n",
    "    x1x2=[]\n",
    "    x1_square=[]\n",
    "    x2_square=[]\n",
    "    y=[]\n",
    "    for i in range(N):\n",
    "        x1.append(rand.uniform(-1,1))\n",
    "        x2.append(rand.uniform(-1,1))\n",
    "        x1x2.append(x1[i]*x2[i])\n",
    "        x1_square.append(x1[i]**2)\n",
    "        x2_square.append(x2[i]**2)\n",
    "        isFlip=rand.uniform(0,1)\n",
    "        if isFlip<=0.1:\n",
    "            y.append(-sign( x1[i]**2 + x2[i]**2 - 0.6 ))\n",
    "        else:\n",
    "            y.append(sign(x1[i]**2 + x2[i]**2 - 0.6))\n",
    "    #linear regression(training)\n",
    "    x1=np.matrix(x1)\n",
    "    x1=x1.reshape(N,1)\n",
    "    x2=np.matrix(x2)\n",
    "    x2=x2.reshape(N,1)\n",
    "    x1x2=np.matrix(x1x2)\n",
    "    x1x2=x1x2.reshape(N,1)\n",
    "    x1_square=np.matrix(x1_square)\n",
    "    x1_square=x1_square.reshape(N,1)\n",
    "    x2_square=np.matrix(x2_square)\n",
    "    x2_square=x2_square.reshape(N,1)\n",
    "    temp=np.matrix(np.ones((N,1)))\n",
    "    X=np.concatenate((temp,x1,x2,x1x2,x1_square,x2_square),axis=1)\n",
    "    y=np.matrix(y)\n",
    "    y=y.reshape(N,1)\n",
    "    w=np.linalg.pinv(X)*y\n",
    "    #testing\n",
    "#     Ein=0\n",
    "#     for i in range(N):\n",
    "#         if y[i]!=sign(w[0]*1+w[1]*x1[i]+w[2]*x2[i]+w[3]*x1x2[i]+w[4]*x1_square[i]+w[5]*x2_square[i]):\n",
    "#             Ein+=1\n",
    "#     Ein=Ein/N\n",
    "    w0Record.append(w.item(0))\n",
    "    w1Record.append(w.item(1))\n",
    "    w2Record.append(w.item(2))\n",
    "    w3Record.append(w.item(3))\n",
    "    w4Record.append(w.item(4))\n",
    "    w5Record.append(w.item(5))\n",
    "    \n",
    "print(\"Average w0:\",sum(w0Record)/testTimes)\n",
    "print(\"Average w1:\",sum(w1Record)/testTimes)\n",
    "print(\"Average w2:\",sum(w2Record)/testTimes)\n",
    "print(\"Average w3:\",sum(w3Record)/testTimes)\n",
    "print(\"Average w4:\",sum(w4Record)/testTimes)\n",
    "print(\"Average w5:\",sum(w5Record)/testTimes)"
   ]
  },
  {
   "cell_type": "code",
   "execution_count": 14,
   "metadata": {
    "collapsed": false
   },
   "outputs": [
    {
     "data": {
      "image/png": "[encoded data removed]",
      "text/plain": [
       "<matplotlib.figure.Figure at 0x105f5e5d0>"
      ]
     },
     "metadata": {},
     "output_type": "display_data"
    }
   ],
   "source": [
    "plt.hist(w3Record)\n",
    "plt.title(\"w3 distribution\")\n",
    "plt.xlabel(\"w3\")\n",
    "plt.ylabel(\"Frequency\")\n",
    "plt.show()"
   ]
  },
  {
   "cell_type": "code",
   "execution_count": null,
   "metadata": {
    "collapsed": true
   },
   "outputs": [],
   "source": []
  }
 ],
 "metadata": {
  "kernelspec": {
   "display_name": "Python 3",
   "language": "python",
   "name": "python3"
  },
  "language_info": {
   "codemirror_mode": {
    "name": "ipython",
    "version": 3
   },
   "file_extension": ".py",
   "mimetype": "text/x-python",
   "name": "python",
   "nbconvert_exporter": "python",
   "pygments_lexer": "ipython3",
   "version": "3.3.5"
  }
 },
 "nbformat": 4,
 "nbformat_minor": 0
}
