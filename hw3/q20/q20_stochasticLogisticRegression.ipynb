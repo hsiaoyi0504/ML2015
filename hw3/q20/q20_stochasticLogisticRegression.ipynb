{
 "cells": [
  {
   "cell_type": "code",
   "execution_count": 3,
   "metadata": {
    "collapsed": false
   },
   "outputs": [],
   "source": [
    "import numpy as np\n",
    "import math\n",
    "\n",
    "def logistic(s):\n",
    "    return 1/(1+math.exp(s))\n",
    "\n",
    "stepSize=0.001\n",
    "iterations=2000\n",
    "dimensions=21\n",
    "x=[]\n",
    "for i in range(dimensions):\n",
    "    x.append([])\n",
    "y=[]\n",
    "with open('../hw3_train.dat') as f:\n",
    "    for line in f:\n",
    "        for i,value in enumerate(line.split()):\n",
    "            if i<dimensions-1:\n",
    "                x[i+1].append(float(value))\n",
    "            else:\n",
    "                y.append(int(value))\n",
    "    f.close()\n",
    "x[0]=np.ones(len(x[1]))\n",
    "x=np.array(x)\n",
    "N=len(x[1])"
   ]
  },
  {
   "cell_type": "code",
   "execution_count": 4,
   "metadata": {
    "collapsed": false
   },
   "outputs": [],
   "source": [
    "w=np.zeros(dimensions)\n",
    "num=0\n",
    "for i in range(iterations):\n",
    "    gradient=logistic(y[num]*np.inner(w,x[:,num]))*(-y[num])*x[:,num]\n",
    "    w-=stepSize*gradient\n",
    "    num+=1\n",
    "    if num>=N:\n",
    "        num-=N"
   ]
  },
  {
   "cell_type": "code",
   "execution_count": 5,
   "metadata": {
    "collapsed": false
   },
   "outputs": [
    {
     "name": "stdout",
     "output_type": "stream",
     "text": [
      "[ 0.01826899 -0.01308051  0.04072894 -0.03295698  0.01498363 -0.03691042\n",
      "  0.01232819  0.04791334 -0.02244958  0.02470544  0.06878235  0.01897378\n",
      " -0.02032107 -0.00901469  0.04589259  0.05776824  0.06102487 -0.04756147\n",
      "  0.06035018 -0.01660574 -0.03509342]\n"
     ]
    }
   ],
   "source": [
    "print(w)"
   ]
  },
  {
   "cell_type": "code",
   "execution_count": 6,
   "metadata": {
    "collapsed": false
   },
   "outputs": [
    {
     "name": "stdout",
     "output_type": "stream",
     "text": [
      "Eout: 0.473\n"
     ]
    }
   ],
   "source": [
    "x=[]\n",
    "for i in range(dimensions):\n",
    "    x.append([])\n",
    "y=[]\n",
    "with open('../hw3_test.dat') as f:\n",
    "    for line in f:\n",
    "        for i,value in enumerate(line.split()):\n",
    "            if i<dimensions-1:\n",
    "                x[i+1].append(float(value))\n",
    "            else:\n",
    "                y.append(int(value))\n",
    "x[0]=np.ones(len(x[1]))\n",
    "x=np.array(x)\n",
    "N=len(x[1])\n",
    "Eout=0\n",
    "for i in range(N):\n",
    "    if y[i]*np.inner(x[:,i],w)<=0:\n",
    "        Eout+=1\n",
    "Eout/=N\n",
    "print(\"Eout:\",Eout)"
   ]
  }
 ],
 "metadata": {
  "kernelspec": {
   "display_name": "Python 3",
   "language": "python",
   "name": "python3"
  },
  "language_info": {
   "codemirror_mode": {
    "name": "ipython",
    "version": 3
   },
   "file_extension": ".py",
   "mimetype": "text/x-python",
   "name": "python",
   "nbconvert_exporter": "python",
   "pygments_lexer": "ipython3",
   "version": "3.3.5"
  }
 },
 "nbformat": 4,
 "nbformat_minor": 0
}
