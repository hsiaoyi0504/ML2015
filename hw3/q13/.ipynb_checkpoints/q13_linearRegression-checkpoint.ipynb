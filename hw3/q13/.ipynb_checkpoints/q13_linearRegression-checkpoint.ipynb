{
 "cells": [
  {
   "cell_type": "code",
   "execution_count": 71,
   "metadata": {
    "collapsed": false
   },
   "outputs": [
    {
     "name": "stdout",
     "output_type": "stream",
     "text": [
      "Average Ein: 0.5061909999999998\n"
     ]
    }
   ],
   "source": [
    "%matplotlib inline\n",
    "import random as rand\n",
    "import numpy as np\n",
    "import matplotlib.pyplot as plt\n",
    "def sign(num):\n",
    "    if num>0:\n",
    "        return 1\n",
    "    else:\n",
    "        return -1\n",
    "testTimes=1000\n",
    "EinRecord=[]\n",
    "N=1000\n",
    "for testTime in range(testTimes):\n",
    "    #generate traning set\n",
    "    x1=[]\n",
    "    x2=[]\n",
    "    y=[]\n",
    "    for i in range(N):\n",
    "        x1.append(rand.uniform(-1,1))\n",
    "        x2.append(rand.uniform(-1,1))\n",
    "        isFlip=rand.uniform(0,1)\n",
    "        if isFlip<=0.1:\n",
    "            y.append(-sign( x1[i]**2 + x2[i]**2 - 0.6 ))\n",
    "        else:\n",
    "            y.append(sign(x1[i]**2 + x2[i]**2 - 0.6))\n",
    "    #linear regression(training)\n",
    "    x1=np.matrix(x1)\n",
    "    x1=x1.reshape(N,1)\n",
    "    x2=np.matrix(x2)\n",
    "    x2=x2.reshape(N,1)\n",
    "    temp=np.matrix(np.ones((N,1)))\n",
    "    X=np.concatenate((temp,x1,x2),axis=1)\n",
    "    y=np.matrix(y)\n",
    "    y=y.reshape(N,1)\n",
    "    w=np.linalg.pinv(X)*y\n",
    "    #testing\n",
    "    Ein=0\n",
    "    for i in range(N):\n",
    "        if y[i]!=sign(w[0]*1+w[1]*x1[i]+w[2]*x2[i]):\n",
    "            Ein+=1\n",
    "    Ein=Ein/N\n",
    "    EinRecord.append(Ein)\n",
    "print(\"Average Ein:\",sum(EinRecord)/testTimes)"
   ]
  },
  {
   "cell_type": "code",
   "execution_count": 72,
   "metadata": {
    "collapsed": false
   },
   "outputs": [
    {
     "data": {
      "image/png": "[encoded data removed]",
      "text/plain": [
       "<matplotlib.figure.Figure at 0x10591c710>"
      ]
     },
     "metadata": {},
     "output_type": "display_data"
    }
   ],
   "source": [
    "plt.hist(EinRecord)\n",
    "plt.title(\"Ein distribution\")\n",
    "plt.xlabel(\"Ein\")\n",
    "plt.ylabel(\"Frequency\")\n",
    "plt.show()"
   ]
  }
 ],
 "metadata": {
  "kernelspec": {
   "display_name": "Python 3",
   "language": "python",
   "name": "python3"
  },
  "language_info": {
   "codemirror_mode": {
    "name": "ipython",
    "version": 3
   },
   "file_extension": ".py",
   "mimetype": "text/x-python",
   "name": "python",
   "nbconvert_exporter": "python",
   "pygments_lexer": "ipython3",
   "version": "3.3.5"
  }
 },
 "nbformat": 4,
 "nbformat_minor": 0
}
