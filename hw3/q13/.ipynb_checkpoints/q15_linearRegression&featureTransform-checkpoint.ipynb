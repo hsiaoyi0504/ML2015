{
 "cells": [
  {
   "cell_type": "code",
   "execution_count": 1,
   "metadata": {
    "collapsed": false
   },
   "outputs": [
    {
     "name": "stdout",
     "output_type": "stream",
     "text": [
      "Average Eout: 0.12097199999999986\n"
     ]
    }
   ],
   "source": [
    "%matplotlib inline\n",
    "import random as rand\n",
    "import numpy as np\n",
    "import matplotlib.pyplot as plt\n",
    "def sign(num):\n",
    "    if num>0:\n",
    "        return 1\n",
    "    else:\n",
    "        return -1\n",
    "testTimes=1000\n",
    "EoutRecord=[]\n",
    "N=1000\n",
    "#generating out-of-sample data\n",
    "x1_o=[]\n",
    "x2_o=[]\n",
    "x1x2_o=[]\n",
    "x1_square_o=[]\n",
    "x2_square_o=[]\n",
    "y_o=[]\n",
    "for i in range(N):\n",
    "    x1_o.append(rand.uniform(-1,1))\n",
    "    x2_o.append(rand.uniform(-1,1))\n",
    "    x1x2_o.append(x1_o[i]*x2_o[i])\n",
    "    x1_square_o.append(x1_o[i]**2)\n",
    "    x2_square_o.append(x2_o[i]**2)\n",
    "    isFlip=rand.uniform(0,1)\n",
    "    if isFlip<=0.1:\n",
    "        y_o.append(-sign( x1_o[i]**2 + x2_o[i]**2 - 0.6 ))\n",
    "    else:\n",
    "        y_o.append(sign(x1_o[i]**2 + x2_o[i]**2 - 0.6))\n",
    "for testTime in range(testTimes):\n",
    "    #generate traning set\n",
    "    x1=[]\n",
    "    x2=[]\n",
    "    x1x2=[]\n",
    "    x1_square=[]\n",
    "    x2_square=[]\n",
    "    y=[]\n",
    "    \n",
    "    for i in range(N):\n",
    "        x1.append(rand.uniform(-1,1))\n",
    "        x2.append(rand.uniform(-1,1))\n",
    "        x1x2.append(x1[i]*x2[i])\n",
    "        x1_square.append(x1[i]**2)\n",
    "        x2_square.append(x2[i]**2)\n",
    "        isFlip=rand.uniform(0,1)\n",
    "        if isFlip<=0.1:\n",
    "            y.append(-sign( x1[i]**2 + x2[i]**2 - 0.6 ))\n",
    "        else:\n",
    "            y.append(sign(x1[i]**2 + x2[i]**2 - 0.6))\n",
    "    #linear regression(training)\n",
    "    x1=np.matrix(x1)\n",
    "    x1=x1.reshape(N,1)\n",
    "    x2=np.matrix(x2)\n",
    "    x2=x2.reshape(N,1)\n",
    "    x1x2=np.matrix(x1x2)\n",
    "    x1x2=x1x2.reshape(N,1)\n",
    "    x1_square=np.matrix(x1_square)\n",
    "    x1_square=x1_square.reshape(N,1)\n",
    "    x2_square=np.matrix(x2_square)\n",
    "    x2_square=x2_square.reshape(N,1)\n",
    "    temp=np.matrix(np.ones((N,1)))\n",
    "    X=np.concatenate((temp,x1,x2,x1x2,x1_square,x2_square),axis=1)\n",
    "    y=np.matrix(y)\n",
    "    y=y.reshape(N,1)\n",
    "    w=np.linalg.pinv(X)*y\n",
    "    #testing(Eout)\n",
    "    Eout=0\n",
    "    for i in range(N):\n",
    "        if y_o[i]*(w[0]*1 + w[1]*x1_o[i] + w[2]*x2_o[i] + w[3]*x1x2_o[i] + w[4]*x1_square_o[i]+ w[5]*x2_square_o[i] )<=0:\n",
    "            Eout+=1\n",
    "    Eout=Eout/N\n",
    "    EoutRecord.append(Eout)\n",
    "\n",
    "print(\"Average Eout:\",sum(EoutRecord)/testTimes)\n"
   ]
  },
  {
   "cell_type": "code",
   "execution_count": 2,
   "metadata": {
    "collapsed": false
   },
   "outputs": [
    {
     "data": {
      "image/png": "[encoded data removed]",
      "text/plain": [
       "<matplotlib.figure.Figure at 0x10401a8d0>"
      ]
     },
     "metadata": {},
     "output_type": "display_data"
    }
   ],
   "source": [
    "plt.hist(EoutRecord)\n",
    "plt.title(\"Eout distribution\")\n",
    "plt.xlabel(\"Eout\")\n",
    "plt.ylabel(\"Frequency\")\n",
    "plt.show()"
   ]
  }
 ],
 "metadata": {
  "kernelspec": {
   "display_name": "Python 3",
   "language": "python",
   "name": "python3"
  },
  "language_info": {
   "codemirror_mode": {
    "name": "ipython",
    "version": 3
   },
   "file_extension": ".py",
   "mimetype": "text/x-python",
   "name": "python",
   "nbconvert_exporter": "python",
   "pygments_lexer": "ipython3",
   "version": "3.3.5"
  }
 },
 "nbformat": 4,
 "nbformat_minor": 0
}
