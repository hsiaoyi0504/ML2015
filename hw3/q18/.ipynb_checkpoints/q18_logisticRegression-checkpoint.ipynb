{
 "cells": [
  {
   "cell_type": "code",
   "execution_count": 42,
   "metadata": {
    "collapsed": false
   },
   "outputs": [],
   "source": [
    "import numpy as np\n",
    "import math\n",
    "\n",
    "def logistic(s):\n",
    "    return 1/(1+math.exp(s))\n",
    "\n",
    "stepSize=0.001\n",
    "iterations=2000\n",
    "dimensions=21\n",
    "x=[]\n",
    "for i in range(dimensions):\n",
    "    x.append([])\n",
    "y=[]\n",
    "with open('../hw3_train.dat') as f:\n",
    "    for line in f:\n",
    "        for i,value in enumerate(line.split()):\n",
    "            if i<dimensions-1:\n",
    "                x[i+1].append(float(value))\n",
    "            else:\n",
    "                y.append(int(value))\n",
    "    f.close()\n",
    "x[0]=np.ones(len(x[1]))\n",
    "x=np.array(x)\n",
    "N=len(x[1])"
   ]
  },
  {
   "cell_type": "code",
   "execution_count": 43,
   "metadata": {
    "collapsed": false
   },
   "outputs": [],
   "source": [
    "w=np.zeros(dimensions)\n",
    "for i in range(iterations):\n",
    "    gradient=np.zeros(dimensions)\n",
    "    for j in range(N):\n",
    "        gradient+=logistic(y[j]*np.inner(w,x[:,j]))*(-y[j])*x[:,j]\n",
    "    gradient/=N\n",
    "    w-=stepSize*gradient"
   ]
  },
  {
   "cell_type": "code",
   "execution_count": 45,
   "metadata": {
    "collapsed": false
   },
   "outputs": [
    {
     "name": "stdout",
     "output_type": "stream",
     "text": [
      "[ 0.01878417 -0.01260595  0.04084862 -0.03266317  0.01502334 -0.03667437\n",
      "  0.01255934  0.04815065 -0.02206419  0.02479605  0.06899284  0.0193719\n",
      " -0.01988549 -0.0087049   0.04605863  0.05793382  0.061218   -0.04720391\n",
      "  0.06070375 -0.01610907 -0.03484607]\n"
     ]
    }
   ],
   "source": [
    "print(w)"
   ]
  },
  {
   "cell_type": "code",
   "execution_count": 48,
   "metadata": {
    "collapsed": false
   },
   "outputs": [
    {
     "name": "stdout",
     "output_type": "stream",
     "text": [
      "Eout: 0.475\n"
     ]
    }
   ],
   "source": [
    "x=[]\n",
    "for i in range(dimensions):\n",
    "    x.append([])\n",
    "y=[]\n",
    "with open('../hw3_test.dat') as f:\n",
    "    for line in f:\n",
    "        for i,value in enumerate(line.split()):\n",
    "            if i<dimensions-1:\n",
    "                x[i+1].append(float(value))\n",
    "            else:\n",
    "                y.append(int(value))\n",
    "x[0]=np.ones(len(x[1]))\n",
    "x=np.array(x)\n",
    "N=len(x[1])\n",
    "Eout=0\n",
    "for i in range(N):\n",
    "    if y[i]*np.inner(x[:,i],w)<=0:\n",
    "        Eout+=1\n",
    "Eout/=N\n",
    "print(\"Eout:\",Eout)"
   ]
  }
 ],
 "metadata": {
  "kernelspec": {
   "display_name": "Python 3",
   "language": "python",
   "name": "python3"
  },
  "language_info": {
   "codemirror_mode": {
    "name": "ipython",
    "version": 3
   },
   "file_extension": ".py",
   "mimetype": "text/x-python",
   "name": "python",
   "nbconvert_exporter": "python",
   "pygments_lexer": "ipython3",
   "version": "3.3.5"
  }
 },
 "nbformat": 4,
 "nbformat_minor": 0
}
