{
 "cells": [
  {
   "cell_type": "code",
   "execution_count": 1,
   "metadata": {
    "collapsed": false
   },
   "outputs": [],
   "source": [
    "import numpy as np\n",
    "import math\n",
    "\n",
    "def logistic(s):\n",
    "    return 1/(1+math.exp(s))\n",
    "\n",
    "stepSize=0.01\n",
    "iterations=2000\n",
    "dimensions=21\n",
    "x=[]\n",
    "for i in range(dimensions):\n",
    "    x.append([])\n",
    "y=[]\n",
    "with open('../hw3_train.dat') as f:\n",
    "    for line in f:\n",
    "        for i,value in enumerate(line.split()):\n",
    "            if i<dimensions-1:\n",
    "                x[i+1].append(float(value))\n",
    "            else:\n",
    "                y.append(int(value))\n",
    "    f.close()\n",
    "x[0]=np.ones(len(x[1]))\n",
    "x=np.array(x)\n",
    "N=len(x[1])"
   ]
  },
  {
   "cell_type": "code",
   "execution_count": 2,
   "metadata": {
    "collapsed": false
   },
   "outputs": [],
   "source": [
    "w=np.zeros(dimensions)\n",
    "for i in range(iterations):\n",
    "    gradient=np.zeros(dimensions)\n",
    "    for j in range(N):\n",
    "        gradient+=logistic(y[j]*np.inner(w,x[:,j]))*(-y[j])*x[:,j]\n",
    "    gradient/=N\n",
    "    w-=stepSize*gradient"
   ]
  },
  {
   "cell_type": "code",
   "execution_count": 3,
   "metadata": {
    "collapsed": false
   },
   "outputs": [
    {
     "name": "stdout",
     "output_type": "stream",
     "text": [
      "[-0.00385379 -0.18914564  0.26625908 -0.35356593  0.04088776 -0.3794296\n",
      "  0.01982783  0.33391527 -0.26386754  0.13489328  0.4914191   0.08726107\n",
      " -0.25537728 -0.16291797  0.30073678  0.40014954  0.43218808 -0.46227968\n",
      "  0.43230193 -0.20786372 -0.36936337]\n"
     ]
    }
   ],
   "source": [
    "print(w)"
   ]
  },
  {
   "cell_type": "code",
   "execution_count": 4,
   "metadata": {
    "collapsed": false
   },
   "outputs": [
    {
     "name": "stdout",
     "output_type": "stream",
     "text": [
      "Eout: 0.22\n"
     ]
    }
   ],
   "source": [
    "x=[]\n",
    "for i in range(dimensions):\n",
    "    x.append([])\n",
    "y=[]\n",
    "with open('../hw3_test.dat') as f:\n",
    "    for line in f:\n",
    "        for i,value in enumerate(line.split()):\n",
    "            if i<dimensions-1:\n",
    "                x[i+1].append(float(value))\n",
    "            else:\n",
    "                y.append(int(value))\n",
    "x[0]=np.ones(len(x[1]))\n",
    "x=np.array(x)\n",
    "N=len(x[1])\n",
    "Eout=0\n",
    "for i in range(N):\n",
    "    if y[i]*np.inner(x[:,i],w)<=0:\n",
    "        Eout+=1\n",
    "Eout/=N\n",
    "print(\"Eout:\",Eout)"
   ]
  }
 ],
 "metadata": {
  "kernelspec": {
   "display_name": "Python 3",
   "language": "python",
   "name": "python3"
  },
  "language_info": {
   "codemirror_mode": {
    "name": "ipython",
    "version": 3
   },
   "file_extension": ".py",
   "mimetype": "text/x-python",
   "name": "python",
   "nbconvert_exporter": "python",
   "pygments_lexer": "ipython3",
   "version": "3.3.5"
  }
 },
 "nbformat": 4,
 "nbformat_minor": 0
}
