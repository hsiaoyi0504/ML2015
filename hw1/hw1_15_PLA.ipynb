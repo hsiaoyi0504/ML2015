{
 "cells": [
  {
   "cell_type": "code",
   "execution_count": 1,
   "metadata": {
    "collapsed": false
   },
   "outputs": [],
   "source": [
    "import numpy as np;\n",
    "dimensions=5;\n",
    "x=[];\n",
    "for i in range(dimensions):\n",
    "    x.append([]);\n",
    "y=[];"
   ]
  },
  {
   "cell_type": "code",
   "execution_count": 2,
   "metadata": {
    "collapsed": false
   },
   "outputs": [],
   "source": [
    "#read training data\n",
    "with open('hw1_15_train.txt') as f:\n",
    "    for line in f:\n",
    "        for i,value in enumerate(line.split()):\n",
    "            if i<4:\n",
    "                x[i+1].append(float(value));\n",
    "            else:\n",
    "                y.append(int(value));\n",
    "    f.close();\n",
    "x[0]=np.ones(len(x[1]));"
   ]
  },
  {
   "cell_type": "code",
   "execution_count": 3,
   "metadata": {
    "collapsed": false
   },
   "outputs": [
    {
     "name": "stdout",
     "output_type": "stream",
     "text": [
      "PLA update count: 45\n",
      "PLA last update index 399\n"
     ]
    }
   ],
   "source": [
    "#PLA training\n",
    "w=np.zeros(dimensions);\n",
    "#update counter\n",
    "i=0;\n",
    "while True:\n",
    "    isUpdate=False;\n",
    "    for j in range(len(x[0])):\n",
    "        innerProduct=0;\n",
    "        for k in range (dimensions):\n",
    "            innerProduct=innerProduct+w[k]*x[k][j];\n",
    "        #if error, update w\n",
    "        if (innerProduct<=0)!= (y[j]<0):\n",
    "            for k in range(dimensions):\n",
    "                w[k]=w[k]+y[j]*x[k][j];\n",
    "            #print(j);\n",
    "            isUpdate=True;\n",
    "            i=i+1;\n",
    "            lastUpdateIndex=j;\n",
    "            continue;\n",
    "    if not isUpdate:\n",
    "        break\n",
    "print(\"PLA update count:\",i)\n",
    "print(\"PLA last update index\",j)"
   ]
  },
  {
   "cell_type": "code",
   "execution_count": 4,
   "metadata": {
    "collapsed": false
   },
   "outputs": [
    {
     "name": "stdout",
     "output_type": "stream",
     "text": [
      "PLA training verification: successed\n"
     ]
    }
   ],
   "source": [
    "#PLA training verification\n",
    "y2=[];\n",
    "for i in range(len(x[0])):\n",
    "    innerProduct=0;\n",
    "    for j in range(dimensions):\n",
    "        innerProduct=innerProduct+w[j]*x[j][i];\n",
    "    if innerProduct>0:\n",
    "        y2.append(1);\n",
    "    elif innerProduct<=0:\n",
    "        y2.append(-1);\n",
    "if y==y2:\n",
    "    print(\"PLA training verification: successed\");\n",
    "else:\n",
    "    print(\"PLA training verification: failed\");"
   ]
  },
  {
   "cell_type": "code",
   "execution_count": null,
   "metadata": {
    "collapsed": true
   },
   "outputs": [],
   "source": []
  }
 ],
 "metadata": {
  "kernelspec": {
   "display_name": "Python 3",
   "language": "python",
   "name": "python3"
  },
  "language_info": {
   "codemirror_mode": {
    "name": "ipython",
    "version": 3
   },
   "file_extension": ".py",
   "mimetype": "text/x-python",
   "name": "python",
   "nbconvert_exporter": "python",
   "pygments_lexer": "ipython3",
   "version": "3.3.5"
  }
 },
 "nbformat": 4,
 "nbformat_minor": 0
}
