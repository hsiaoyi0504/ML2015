{
 "cells": [
  {
   "cell_type": "code",
   "execution_count": 1,
   "metadata": {
    "collapsed": false
   },
   "outputs": [],
   "source": [
    "import numpy as np;\n",
    "import random as rand;\n",
    "dimensions=5;\n",
    "testTimes=2000;\n",
    "updateFactor=1;\n",
    "maxUpdateTimes=100;"
   ]
  },
  {
   "cell_type": "code",
   "execution_count": 2,
   "metadata": {
    "collapsed": false
   },
   "outputs": [],
   "source": [
    "x=[];\n",
    "x2=[];\n",
    "for i in range(dimensions):\n",
    "    x.append([]);\n",
    "    x2.append([]);\n",
    "y=[];\n",
    "y2=[];"
   ]
  },
  {
   "cell_type": "code",
   "execution_count": 3,
   "metadata": {
    "collapsed": false
   },
   "outputs": [],
   "source": [
    "#read training data\n",
    "with open('hw1_18_train.txt') as f:\n",
    "    for line in f:\n",
    "        for i,value in enumerate(line.split()):\n",
    "            if i<4:\n",
    "                x[i+1].append(float(value));\n",
    "            else:\n",
    "                y.append(int(value));\n",
    "    f.close();\n",
    "x[0]=np.ones(len(x[1]));"
   ]
  },
  {
   "cell_type": "code",
   "execution_count": 4,
   "metadata": {
    "collapsed": true
   },
   "outputs": [],
   "source": [
    "#read testing data\n",
    "with open('hw1_18_test.txt') as f:\n",
    "    for line in f:\n",
    "        for i,value in enumerate(line.split()):\n",
    "            if i<4:\n",
    "                x2[i+1].append(float(value));\n",
    "            else:\n",
    "                y2.append(int(value));\n",
    "    f.close();\n",
    "x2[0]=np.ones(len(x2[1]));"
   ]
  },
  {
   "cell_type": "code",
   "execution_count": 5,
   "metadata": {
    "collapsed": false
   },
   "outputs": [],
   "source": [
    "totalErrorCount=0;\n",
    "for times in range(testTimes):\n",
    "    #print(times);\n",
    "    #generate random cycle\n",
    "    #P training\n",
    "    w=np.zeros(dimensions);\n",
    "    pocketW=w;\n",
    "    pocketErrorTimes=len(x[0]);\n",
    "    #update counter\n",
    "    updates=0;\n",
    "    while updates<maxUpdateTimes:\n",
    "        isUpdate=False;\n",
    "        for j in range(len(x[0])):\n",
    "            randomNum=rand.choice(list(range(len(x[0]))));\n",
    "            innerProduct=0;\n",
    "            for k in range(dimensions):\n",
    "                innerProduct=innerProduct+w[k]*x[k][randomNum];\n",
    "            #if error, update w\n",
    "            if (innerProduct<=0)!= (y[randomNum]<0):\n",
    "                for k in range(dimensions):\n",
    "                    w[k]=w[k]+updateFactor*y[randomNum]*x[k][randomNum];\n",
    "                #print(j);\n",
    "                isUpdate=True;\n",
    "                updates=updates+1;\n",
    "                errorCount=0;\n",
    "                for j2 in range(len(x[0])):\n",
    "                    innerProduct=0;\n",
    "                    for k in range(dimensions):\n",
    "                        innerProduct=innerProduct+w[k]*x[k][j2];\n",
    "                    if (innerProduct<=0)!= (y[j2]<0):\n",
    "                        errorCount=errorCount+1;\n",
    "                if errorCount<pocketErrorTimes:\n",
    "                    pocketW=w;\n",
    "                continue;\n",
    "        if not isUpdate:\n",
    "            break;\n",
    "    #Pocket:verification\n",
    "    for i in range(len(x2[0])):\n",
    "        innerProduct=0;\n",
    "        for j in range(dimensions):\n",
    "            innerProduct=innerProduct+pocketW[j]*x2[j][i];\n",
    "        if(innerProduct<=0)!= (y2[j]<0):\n",
    "            totalErrorCount=totalErrorCount+1;"
   ]
  },
  {
   "cell_type": "code",
   "execution_count": 6,
   "metadata": {
    "collapsed": false
   },
   "outputs": [
    {
     "name": "stdout",
     "output_type": "stream",
     "text": [
      "Pocket average error rate: 0.657037\n"
     ]
    }
   ],
   "source": [
    "print(\"Pocket average error rate:\",totalErrorCount/len(x2[0])/testTimes);"
   ]
  }
 ],
 "metadata": {
  "kernelspec": {
   "display_name": "Python 3",
   "language": "python",
   "name": "python3"
  },
  "language_info": {
   "codemirror_mode": {
    "name": "ipython",
    "version": 3
   },
   "file_extension": ".py",
   "mimetype": "text/x-python",
   "name": "python",
   "nbconvert_exporter": "python",
   "pygments_lexer": "ipython3",
   "version": "3.3.5"
  }
 },
 "nbformat": 4,
 "nbformat_minor": 0
}
