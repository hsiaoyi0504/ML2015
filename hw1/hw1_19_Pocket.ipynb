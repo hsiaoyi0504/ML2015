{
 "cells": [
  {
   "cell_type": "code",
   "execution_count": 1,
   "metadata": {
    "collapsed": false
   },
   "outputs": [],
   "source": [
    "%matplotlib inline\n",
    "import numpy as np\n",
    "import random as rand\n",
    "import matplotlib.pyplot as plt\n",
    "dimensions=5\n",
    "testTimes=2000\n",
    "updateFactor=1\n",
    "maxUpdateTimes=50"
   ]
  },
  {
   "cell_type": "code",
   "execution_count": 2,
   "metadata": {
    "collapsed": false
   },
   "outputs": [],
   "source": [
    "x=[];\n",
    "x2=[];\n",
    "for i in range(dimensions):\n",
    "    x.append([]);\n",
    "    x2.append([]);\n",
    "y=[];\n",
    "y2=[];\n",
    "PLAErrorTimesRecord=[]"
   ]
  },
  {
   "cell_type": "code",
   "execution_count": 3,
   "metadata": {
    "collapsed": false
   },
   "outputs": [],
   "source": [
    "#read training data\n",
    "with open('hw1_18_train.txt') as f:\n",
    "    for line in f:\n",
    "        for i,value in enumerate(line.split()):\n",
    "            if i<4:\n",
    "                x[i+1].append(float(value));\n",
    "            else:\n",
    "                y.append(int(value));\n",
    "    f.close();\n",
    "x[0]=np.ones(len(x[1]));"
   ]
  },
  {
   "cell_type": "code",
   "execution_count": 4,
   "metadata": {
    "collapsed": true
   },
   "outputs": [],
   "source": [
    "#read testing data\n",
    "with open('hw1_18_test.txt') as f:\n",
    "    for line in f:\n",
    "        for i,value in enumerate(line.split()):\n",
    "            if i<4:\n",
    "                x2[i+1].append(float(value));\n",
    "            else:\n",
    "                y2.append(int(value));\n",
    "    f.close();\n",
    "x2[0]=np.ones(len(x2[1]));"
   ]
  },
  {
   "cell_type": "code",
   "execution_count": 5,
   "metadata": {
    "collapsed": false
   },
   "outputs": [],
   "source": [
    "for times in range(testTimes):\n",
    "    w=np.zeros(dimensions)\n",
    "    pocketW=w\n",
    "    pocketErrorTimes=len(x2[0])\n",
    "    #update counter\n",
    "    updates=0\n",
    "    #while True:\n",
    "    while updates<maxUpdateTimes:\n",
    "        randomNum=rand.choice(list(range(len(x[0]))))\n",
    "        #isUpdate=False;\n",
    "        innerProduct=0\n",
    "        for k in range(dimensions):\n",
    "            innerProduct=innerProduct+w[k]*x[k][randomNum]\n",
    "        #if error, update w\n",
    "        if (innerProduct<=0)!= (y[randomNum]<0):\n",
    "            for k in range(dimensions):\n",
    "                w[k]=w[k]+updateFactor*y[randomNum]*x[k][randomNum]\n",
    "            updates=updates+1\n",
    "            #check if update pocketW\n",
    "            testErrorCount=0\n",
    "            for j2 in range(len(x2[0])):\n",
    "                innerProduct=0;\n",
    "                for k in range(dimensions):\n",
    "                    innerProduct=innerProduct+w[k]*x2[k][j2]\n",
    "                if (innerProduct<=0)!= (y2[j2]<0):\n",
    "                    testErrorCount+=1\n",
    "            if testErrorCount<pocketErrorTimes:\n",
    "                pocketW=w\n",
    "                pocketErrorTimes=testErrorCount\n",
    "    PLAErrorTimesRecord.append(testErrorCount)"
   ]
  },
  {
   "cell_type": "code",
   "execution_count": 6,
   "metadata": {
    "collapsed": false
   },
   "outputs": [
    {
     "name": "stdout",
     "output_type": "stream",
     "text": [
      "Pocket average error rate: 0.35624900000000004\n"
     ]
    }
   ],
   "source": [
    "print(\"Pocket average error rate:\",sum(PLAErrorTimesRecord)/testTimes/len(x2[0]))"
   ]
  },
  {
   "cell_type": "code",
   "execution_count": 7,
   "metadata": {
    "collapsed": false
   },
   "outputs": [
    {
     "data": {
      "image/png": "[encoded data removed]",
      "text/plain": [
       "<matplotlib.figure.Figure at 0x10596a9d0>"
      ]
     },
     "metadata": {},
     "output_type": "display_data"
    }
   ],
   "source": [
    "plt.hist(PLAErrorTimesRecord,bins=max(PLAErrorTimesRecord)-min(PLAErrorTimesRecord),normed=True)\n",
    "plt.title(\"Error Frequency Histogram\")\n",
    "plt.xlabel(\"error counts\")\n",
    "plt.ylabel(\"Frequency\")\n",
    "plt.show()"
   ]
  }
 ],
 "metadata": {
  "kernelspec": {
   "display_name": "Python 3",
   "language": "python",
   "name": "python3"
  },
  "language_info": {
   "codemirror_mode": {
    "name": "ipython",
    "version": 3
   },
   "file_extension": ".py",
   "mimetype": "text/x-python",
   "name": "python",
   "nbconvert_exporter": "python",
   "pygments_lexer": "ipython3",
   "version": "3.3.5"
  }
 },
 "nbformat": 4,
 "nbformat_minor": 0
}
