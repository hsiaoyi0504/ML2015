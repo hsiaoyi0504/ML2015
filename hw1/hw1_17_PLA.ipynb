{
 "cells": [
  {
   "cell_type": "code",
   "execution_count": 1,
   "metadata": {
    "collapsed": false
   },
   "outputs": [],
   "source": [
    "%matplotlib inline\n",
    "import numpy as np\n",
    "import random as rand\n",
    "import matplotlib.pyplot as plt\n",
    "dimensions=5\n",
    "randomTimes=2000\n",
    "updateFactor=0.5"
   ]
  },
  {
   "cell_type": "code",
   "execution_count": 2,
   "metadata": {
    "collapsed": false
   },
   "outputs": [],
   "source": [
    "x=[]\n",
    "for i in range(dimensions):\n",
    "    x.append([])\n",
    "y=[]\n",
    "updatesRecord=[]"
   ]
  },
  {
   "cell_type": "code",
   "execution_count": 3,
   "metadata": {
    "collapsed": false
   },
   "outputs": [],
   "source": [
    "#read training data\n",
    "with open('hw1_15_train.txt') as f:\n",
    "    for line in f:\n",
    "        for i,value in enumerate(line.split()):\n",
    "            if i<4:\n",
    "                x[i+1].append(float(value))\n",
    "            else:\n",
    "                y.append(int(value))\n",
    "    f.close()\n",
    "x[0]=np.ones(len(x[1]))"
   ]
  },
  {
   "cell_type": "code",
   "execution_count": 4,
   "metadata": {
    "collapsed": false
   },
   "outputs": [],
   "source": [
    "randomList=list(range(len(x[0])))\n",
    "#print(randomList)\n",
    "totalUpdates=0\n",
    "for times in range(randomTimes):\n",
    "    #generate random cycle\n",
    "    #print(times);\n",
    "    rand.shuffle(randomList)\n",
    "    #print(randomList)\n",
    "    #PLA training\n",
    "    w=np.zeros(dimensions)\n",
    "    #update counter\n",
    "    updates=0\n",
    "    while True:\n",
    "        isUpdate=False;\n",
    "        for j in range(len(x[0])):\n",
    "            innerProduct=0\n",
    "            for k in range(dimensions):\n",
    "                innerProduct=innerProduct+w[k]*x[k][randomList[j]]\n",
    "            #if error, update w\n",
    "            if (innerProduct<=0)!= (y[randomList[j]]<0):\n",
    "                for k in range(dimensions):\n",
    "                    w[k]=w[k]+updateFactor*y[randomList[j]]*x[k][randomList[j]]\n",
    "                #print(j);\n",
    "                isUpdate=True\n",
    "                updates=updates+1\n",
    "                #print(\"updates:\",updates)\n",
    "                continue\n",
    "        if not isUpdate:\n",
    "            break\n",
    "    totalUpdates=totalUpdates+updates\n",
    "    updatesRecord.append(updates)"
   ]
  },
  {
   "cell_type": "code",
   "execution_count": 5,
   "metadata": {
    "collapsed": false
   },
   "outputs": [
    {
     "name": "stdout",
     "output_type": "stream",
     "text": [
      "PLA average updates: 40.4415\n"
     ]
    }
   ],
   "source": [
    "print(\"PLA average updates:\",totalUpdates/randomTimes)\n",
    "# #PLA training verification\n",
    "# print(\"PLA updates count:\",updates);\n",
    "# y2=[];\n",
    "# for i in range(len(x[0])):\n",
    "#     innerProduct=0;\n",
    "#     for j in range(dimensions):\n",
    "#         innerProduct=innerProduct+w[j]*x[j][i];\n",
    "#     if innerProduct>0:\n",
    "#         y2.append(1);\n",
    "#     elif innerProduct<=0:\n",
    "#         y2.append(-1);\n",
    "# if y==y2:\n",
    "#     print(\"PLA training verification: successed\");\n",
    "# else:\n",
    "#     print(\"PLA training verification: failed\");\n"
   ]
  },
  {
   "cell_type": "code",
   "execution_count": 6,
   "metadata": {
    "collapsed": false
   },
   "outputs": [
    {
     "data": {
      "image/png": "[encoded data removed]",
      "text/plain": [
       "<matplotlib.figure.Figure at 0x1067d3e90>"
      ]
     },
     "metadata": {},
     "output_type": "display_data"
    }
   ],
   "source": [
    "plt.hist(updatesRecord,bins=max(updatesRecord)-min(updatesRecord),normed=True)\n",
    "plt.title(\"Updates Frequency Histogram\")\n",
    "plt.xlabel(\"update counts\")\n",
    "plt.ylabel(\"Frequency\")\n",
    "plt.show()"
   ]
  }
 ],
 "metadata": {
  "kernelspec": {
   "display_name": "Python 3",
   "language": "python",
   "name": "python3"
  },
  "language_info": {
   "codemirror_mode": {
    "name": "ipython",
    "version": 3
   },
   "file_extension": ".py",
   "mimetype": "text/x-python",
   "name": "python",
   "nbconvert_exporter": "python",
   "pygments_lexer": "ipython3",
   "version": "3.3.5"
  }
 },
 "nbformat": 4,
 "nbformat_minor": 0
}
