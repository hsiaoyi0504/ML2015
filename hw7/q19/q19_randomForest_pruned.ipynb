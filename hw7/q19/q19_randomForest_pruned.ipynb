{
 "cells": [
  {
   "cell_type": "code",
   "execution_count": 1,
   "metadata": {
    "collapsed": false
   },
   "outputs": [],
   "source": [
    "#%matplotlib inline\n",
    "import numpy as np\n",
    "import random as rand\n",
    "import matplotlib.pyplot as plt"
   ]
  },
  {
   "cell_type": "code",
   "execution_count": 2,
   "metadata": {
    "collapsed": true
   },
   "outputs": [],
   "source": [
    "class Tree(object):\n",
    "    def __init__(self):\n",
    "        self.left = None\n",
    "        self.right = None\n",
    "        self.feature = None\n",
    "        self.theta = None\n",
    "        self.constant = None\n",
    "        self.size = None"
   ]
  },
  {
   "cell_type": "code",
   "execution_count": 3,
   "metadata": {
    "collapsed": true
   },
   "outputs": [],
   "source": [
    "def read_data(path,dimensions):\n",
    "    x=[]\n",
    "    for i in range(dimensions-1):\n",
    "        x.append([])\n",
    "    y=[]\n",
    "    with open(path) as file:\n",
    "        for line in file:\n",
    "            for i,value in enumerate(line.split()):\n",
    "                if i!=dimensions-1:\n",
    "                    x[i].append(float(value))\n",
    "                else:\n",
    "                    y.append(int(value))\n",
    "        file.close()\n",
    "    return (x,y)"
   ]
  },
  {
   "cell_type": "code",
   "execution_count": 4,
   "metadata": {
    "collapsed": true
   },
   "outputs": [],
   "source": [
    "def sign(x):\n",
    "    if x>=0:\n",
    "        return 1\n",
    "    else:\n",
    "        return -1"
   ]
  },
  {
   "cell_type": "code",
   "execution_count": 5,
   "metadata": {
    "collapsed": true
   },
   "outputs": [],
   "source": [
    "def impurity(y):\n",
    "    mu=y.count(1)/len(y)\n",
    "    return 2*mu*(1-mu)"
   ]
  },
  {
   "cell_type": "code",
   "execution_count": 6,
   "metadata": {
    "collapsed": true
   },
   "outputs": [],
   "source": [
    "def isTerminate(x,y):\n",
    "    if all(i == y[0] for i in y):\n",
    "        return True\n",
    "    else:\n",
    "        for i in range(len(x)):\n",
    "            if not all(j == x[i][0] for j in x[i]):\n",
    "                return False\n",
    "        return True"
   ]
  },
  {
   "cell_type": "code",
   "execution_count": 7,
   "metadata": {
    "collapsed": false
   },
   "outputs": [],
   "source": [
    "def decisionTree_train(x,y,isTer):\n",
    "    if isTerminate(x,y) or isTer:\n",
    "        if all(i == y[0] for i in y):\n",
    "            root = Tree()\n",
    "            root.constant = y[0]\n",
    "            root.size=len(y)\n",
    "        else:\n",
    "            root = Tree()\n",
    "            if y.count(1)>y.count(-1):\n",
    "                root.constant = 1\n",
    "            else:\n",
    "                root.constant = -1\n",
    "            root.size=len(y)\n",
    "        return root\n",
    "    else:\n",
    "        x_candidates=[]\n",
    "        for i in range(len(x)):\n",
    "            x_candidates.append([])\n",
    "        for i in range(len(x)):\n",
    "            temp=sorted(x[i])\n",
    "            temp=list(set(temp))\n",
    "            for j in range(1,len(temp)):\n",
    "                x_candidates[i].append((temp[j-1]+temp[j])/2)\n",
    "        best_impurity=len(x[0])/2\n",
    "        for i in range(len(x_candidates)):\n",
    "            for j in range(len(x_candidates[0])):\n",
    "                y1=[]\n",
    "                y2=[]\n",
    "                for k in range(len(x[0])):\n",
    "                    if x[i][k]<x_candidates[i][j]:\n",
    "                        y1.append(y[k])\n",
    "                    else:\n",
    "                        y2.append(y[k])\n",
    "                total_impurity=len(y1)*impurity(y1)+len(y2)*impurity(y2)\n",
    "                if total_impurity<=best_impurity:\n",
    "                    best_impurity=total_impurity\n",
    "                    best_feature=i\n",
    "                    best_candidate=j\n",
    "        x1=[]\n",
    "        x2=[]\n",
    "        y1=[]\n",
    "        y2=[]\n",
    "        for i in range(len(x)):\n",
    "            x1.append([])\n",
    "            x2.append([])\n",
    "        for k in range(len(x[0])):\n",
    "            if x[best_feature][k]<x_candidates[best_feature][best_candidate]:\n",
    "                for i in range(len(x)):\n",
    "                    x1[i].append(x[i][k])\n",
    "                y1.append(y[k])\n",
    "            else:\n",
    "                for i in range(len(x)):\n",
    "                    x2[i].append(x[i][k])\n",
    "                y2.append(y[k])\n",
    "        root = Tree()\n",
    "        root.left = decisionTree_train(x1,y1,True)\n",
    "        root.right = decisionTree_train(x2,y2,True)\n",
    "        root.feature = best_feature\n",
    "        root.theta = x_candidates[best_feature][best_candidate]\n",
    "        root.size=len(x[0])\n",
    "        return root"
   ]
  },
  {
   "cell_type": "code",
   "execution_count": 8,
   "metadata": {
    "collapsed": true
   },
   "outputs": [],
   "source": [
    "def decisionTree_predict(root,x):\n",
    "    if root.constant!=None:\n",
    "        return root.constant\n",
    "    if x[root.feature]<root.theta:\n",
    "        return decisionTree_predict(root.left,x)\n",
    "    else:\n",
    "        return decisionTree_predict(root.right,x)"
   ]
  },
  {
   "cell_type": "code",
   "execution_count": 9,
   "metadata": {
    "collapsed": true
   },
   "outputs": [],
   "source": [
    "def boostrap_data(x,y,size):\n",
    "    x2=[]\n",
    "    y2=[]\n",
    "    for i in range(len(x)):\n",
    "        x2.append([])\n",
    "    for k in range(size):\n",
    "        num=rand.randrange(len(x[0]))\n",
    "        for i in range(len(x)):\n",
    "            x2[i].append(x[i][num])\n",
    "        y2.append(y[num])\n",
    "    return (x2,y2)"
   ]
  },
  {
   "cell_type": "code",
   "execution_count": 10,
   "metadata": {
    "collapsed": true
   },
   "outputs": [],
   "source": [
    "iterations=30000"
   ]
  },
  {
   "cell_type": "code",
   "execution_count": 11,
   "metadata": {
    "collapsed": true
   },
   "outputs": [],
   "source": [
    "Ein_record=[]\n",
    "tree_record=[]"
   ]
  },
  {
   "cell_type": "code",
   "execution_count": 12,
   "metadata": {
    "collapsed": false
   },
   "outputs": [],
   "source": [
    "x, y = read_data(\"../hw7_train.dat\",3)\n",
    "for i in range(iterations):\n",
    "    x2, y2 = boostrap_data(x,y,len(x[0]))\n",
    "    tree=decisionTree_train(x2,y2,False)\n",
    "    tree_record.append(tree)"
   ]
  },
  {
   "cell_type": "code",
   "execution_count": 13,
   "metadata": {
    "collapsed": false
   },
   "outputs": [],
   "source": [
    "x=np.array(x)\n",
    "Ein_record=np.zeros(iterations)\n",
    "for k in range(len(x[0])):\n",
    "    temp=0\n",
    "    for i in range(iterations):\n",
    "        temp+=decisionTree_predict(tree_record[i],x[:,k])\n",
    "        if sign(temp)!=y[k]:\n",
    "            Ein_record[i]+=1"
   ]
  },
  {
   "cell_type": "code",
   "execution_count": 14,
   "metadata": {
    "collapsed": false
   },
   "outputs": [
    {
     "data": {
      "text/plain": [
       "<matplotlib.text.Text at 0x1059cb6a0>"
      ]
     },
     "execution_count": 14,
     "metadata": {},
     "output_type": "execute_result"
    },
    {
     "data": {
      "image/png": "[encoded data removed]",
      "text/plain": [
       "<matplotlib.figure.Figure at 0x105843208>"
      ]
     },
     "metadata": {},
     "output_type": "display_data"
    }
   ],
   "source": [
    "Ein_record/=len(x[0])\n",
    "plt.semilogx(list(range(1,iterations+1)),Ein_record)\n",
    "plt.xlabel(\"t\")\n",
    "plt.ylabel(\"Ein(Gt)\")"
   ]
  },
  {
   "cell_type": "code",
   "execution_count": null,
   "metadata": {
    "collapsed": true
   },
   "outputs": [],
   "source": []
  }
 ],
 "metadata": {
  "kernelspec": {
   "display_name": "Python 3",
   "language": "python",
   "name": "python3"
  },
  "language_info": {
   "codemirror_mode": {
    "name": "ipython",
    "version": 3
   },
   "file_extension": ".py",
   "mimetype": "text/x-python",
   "name": "python",
   "nbconvert_exporter": "python",
   "pygments_lexer": "ipython3",
   "version": "3.5.0"
  }
 },
 "nbformat": 4,
 "nbformat_minor": 0
}
