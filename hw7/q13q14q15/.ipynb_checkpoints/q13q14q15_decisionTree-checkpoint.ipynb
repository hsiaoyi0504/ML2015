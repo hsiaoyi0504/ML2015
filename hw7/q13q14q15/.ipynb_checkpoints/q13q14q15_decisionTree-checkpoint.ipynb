{
 "cells": [
  {
   "cell_type": "code",
   "execution_count": 1,
   "metadata": {
    "collapsed": true
   },
   "outputs": [],
   "source": [
    "import numpy as np"
   ]
  },
  {
   "cell_type": "code",
   "execution_count": 2,
   "metadata": {
    "collapsed": true
   },
   "outputs": [],
   "source": [
    "class Tree(object):\n",
    "    def __init__(self):\n",
    "        self.left = None\n",
    "        self.right = None\n",
    "        self.feature = None\n",
    "        self.theta = None\n",
    "        self.constant = None\n",
    "        self.size = None"
   ]
  },
  {
   "cell_type": "code",
   "execution_count": 3,
   "metadata": {
    "collapsed": true
   },
   "outputs": [],
   "source": [
    "def read_data(path,dimensions):\n",
    "    x=[]\n",
    "    for i in range(dimensions-1):\n",
    "        x.append([])\n",
    "    y=[]\n",
    "    with open(path) as file:\n",
    "        for line in file:\n",
    "            for i,value in enumerate(line.split()):\n",
    "                if i!=dimensions-1:\n",
    "                    x[i].append(float(value))\n",
    "                else:\n",
    "                    y.append(int(value))\n",
    "        file.close()\n",
    "    return (x,y)"
   ]
  },
  {
   "cell_type": "code",
   "execution_count": 4,
   "metadata": {
    "collapsed": true
   },
   "outputs": [],
   "source": [
    "def sign(x):\n",
    "    if x>=0:\n",
    "        return 1\n",
    "    else:\n",
    "        return -1"
   ]
  },
  {
   "cell_type": "code",
   "execution_count": 5,
   "metadata": {
    "collapsed": true
   },
   "outputs": [],
   "source": [
    "def impurity(y):\n",
    "    mu=y.count(1)/len(y)\n",
    "    return 2*mu*(1-mu)"
   ]
  },
  {
   "cell_type": "code",
   "execution_count": 6,
   "metadata": {
    "collapsed": true
   },
   "outputs": [],
   "source": [
    "def isTerminate(x,y):\n",
    "    if all(i == y[0] for i in y):\n",
    "        return True\n",
    "    else:\n",
    "        for i in range(len(x)):\n",
    "            if not all(j == x[i][0] for j in x[i]):\n",
    "                return False\n",
    "        return True"
   ]
  },
  {
   "cell_type": "code",
   "execution_count": 7,
   "metadata": {
    "collapsed": false
   },
   "outputs": [],
   "source": [
    "def decisionTree_train(x,y):\n",
    "    if isTerminate(x,y):\n",
    "        if all(i == y[0] for i in y):\n",
    "            root = Tree()\n",
    "            root.constant = y[0]\n",
    "            root.size=len(y)\n",
    "        else:\n",
    "            root = Tree()\n",
    "            if y.count(1)>y.count(-1):\n",
    "                root.constant = 1\n",
    "            else:\n",
    "                root.constant = -1\n",
    "            root.size=len(y)\n",
    "        return root\n",
    "    else:\n",
    "        x_candidates=[]\n",
    "        for i in range(len(x)):\n",
    "            x_candidates.append([])\n",
    "        for i in range(len(x)):\n",
    "            temp=sorted(x[i])\n",
    "            for j in range(1,len(temp)):\n",
    "                x_candidates[i].append((temp[j-1]+temp[j])/2)\n",
    "        best_impurity=len(x[0])/2\n",
    "        for i in range(len(x_candidates)):\n",
    "            for j in range(len(x_candidates[0])):\n",
    "                y1=[]\n",
    "                y2=[]\n",
    "                for k in range(len(x[0])):\n",
    "                    if x[i][k]<x_candidates[i][j]:\n",
    "                        y1.append(y[k])\n",
    "                    else:\n",
    "                        y2.append(y[k])\n",
    "                total_impurity=len(y1)*impurity(y1)+len(y2)*impurity(y2)\n",
    "                if total_impurity<best_impurity:\n",
    "                    best_impurity=total_impurity\n",
    "                    best_feature=i\n",
    "                    best_candidate=j\n",
    "        x1=[]\n",
    "        x2=[]\n",
    "        y1=[]\n",
    "        y2=[]\n",
    "        for i in range(len(x)):\n",
    "            x1.append([])\n",
    "            x2.append([])\n",
    "        for k in range(len(x[0])):\n",
    "            if x[best_feature][k]<x_candidates[best_feature][best_candidate]:\n",
    "                for i in range(len(x)):\n",
    "                    x1[i].append(x[i][k])\n",
    "                y1.append(y[k])\n",
    "            else:\n",
    "                for i in range(len(x)):\n",
    "                    x2[i].append(x[i][k])\n",
    "                y2.append(y[k])\n",
    "        root = Tree()\n",
    "        root.left = decisionTree_train(x1,y1)\n",
    "        root.right = decisionTree_train(x2,y2)\n",
    "        root.feature = best_feature\n",
    "        root.theta = x_candidates[best_feature][best_candidate]\n",
    "        root.size=len(x[0])\n",
    "        return root"
   ]
  },
  {
   "cell_type": "code",
   "execution_count": 8,
   "metadata": {
    "collapsed": true
   },
   "outputs": [],
   "source": [
    "def decisionTree_predict(root,x):\n",
    "    if root.constant!=None:\n",
    "        return root.constant\n",
    "    if x[root.feature]<root.theta:\n",
    "        return decisionTree_predict(root.left,x)\n",
    "    else:\n",
    "        return decisionTree_predict(root.right,x)"
   ]
  },
  {
   "cell_type": "code",
   "execution_count": 9,
   "metadata": {
    "collapsed": false
   },
   "outputs": [],
   "source": [
    "x,y = read_data(\"../hw7_train.dat\",3)\n",
    "tree=decisionTree_train(x,y)"
   ]
  },
  {
   "cell_type": "code",
   "execution_count": 10,
   "metadata": {
    "collapsed": false
   },
   "outputs": [
    {
     "name": "stdout",
     "output_type": "stream",
     "text": [
      "level 0: 1 0.626233\n",
      "level 1: 0 0.22443950000000001 0 0.8781715\n",
      "level 2: 1 0.11515275 0 0.541508 None None ( -1 ) None None ( 1 )\n"
     ]
    }
   ],
   "source": [
    "print(\"level 0:\",tree.feature,tree.theta)\n",
    "print(\"level 1:\",\n",
    "      tree.left.feature,\n",
    "      tree.left.theta,\n",
    "      \n",
    "      tree.right.feature,\n",
    "      tree.right.theta)\n",
    "print(\"level 2:\",\n",
    "      tree.left.left.feature,\n",
    "      tree.left.left.theta,\n",
    "      \n",
    "      tree.left.right.feature,\n",
    "      tree.left.right.theta,\n",
    "      \n",
    "      tree.right.left.feature,\n",
    "      tree.right.left.theta,\n",
    "      \"(\",tree.right.left.constant,\")\",\n",
    "      \n",
    "      tree.right.right.feature,\n",
    "      tree.right.right.theta,\n",
    "      \"(\",tree.right.right.constant,\")\")"
   ]
  },
  {
   "cell_type": "code",
   "execution_count": 11,
   "metadata": {
    "collapsed": false
   },
   "outputs": [
    {
     "name": "stdout",
     "output_type": "stream",
     "text": [
      "level 3: None None ( 1 ) None None ( -1 ) 1 0.3586205 1 0.285925\n",
      "level 4: 0 0.501625 0 0.2607515 1 0.2660385 None None ( 1 )\n",
      "level 5: None None ( 1 ) None None ( -1 ) None None ( 1 ) None None ( -1 ) None None ( 1 ) None None ( -1 )\n"
     ]
    }
   ],
   "source": [
    "print(\"level 3:\",\n",
    "      tree.left.left.left.feature,\n",
    "      tree.left.left.left.theta,\n",
    "      \"(\",tree.left.left.left.constant,\")\",\n",
    "      \n",
    "      tree.left.left.right.feature,\n",
    "      tree.left.left.right.theta,\n",
    "      \"(\",tree.left.left.right.constant,\")\",\n",
    "      \n",
    "      tree.left.right.left.feature,\n",
    "      tree.left.right.left.theta,\n",
    "      \n",
    "      tree.left.right.right.feature,\n",
    "      tree.left.right.right.theta)\n",
    "\n",
    "print(\"level 4:\",\n",
    "      tree.left.right.left.left.feature,\n",
    "      tree.left.right.left.left.theta,\n",
    "      \n",
    "      tree.left.right.left.right.feature,\n",
    "      tree.left.right.left.right.theta,\n",
    "      \n",
    "      tree.left.right.right.left.feature,\n",
    "      tree.left.right.right.left.theta,\n",
    "      \n",
    "      tree.left.right.right.right.feature,\n",
    "      tree.left.right.right.right.theta,\n",
    "      \"(\",tree.left.right.right.right.constant,\")\")\n",
    "\n",
    "print(\"level 5:\",\n",
    "      tree.left.right.left.left.left.feature,\n",
    "      tree.left.right.left.left.left.theta,\n",
    "      \"(\",tree.left.right.left.left.left.constant,\")\",\n",
    "      \n",
    "      tree.left.right.left.left.right.feature,\n",
    "      tree.left.right.left.left.right.theta,\n",
    "      \"(\",tree.left.right.left.left.right.constant,\")\",\n",
    "      \n",
    "      tree.left.right.left.right.left.feature,\n",
    "      tree.left.right.left.right.left.theta,\n",
    "      \"(\",tree.left.right.left.right.left.constant,\")\",\n",
    "      \n",
    "      tree.left.right.left.right.right.feature,\n",
    "      tree.left.right.left.right.right.theta,\n",
    "      \"(\",tree.left.right.left.right.right.constant,\")\",\n",
    "      \n",
    "      tree.left.right.right.left.left.feature,\n",
    "      tree.left.right.right.left.left.theta,\n",
    "      \"(\",tree.left.right.right.left.left.constant,\")\",\n",
    "      \n",
    "      tree.left.right.right.left.right.feature,\n",
    "      tree.left.right.right.left.right.theta,\n",
    "      \"(\",tree.left.right.right.left.right.constant,\")\",\n",
    "      )"
   ]
  },
  {
   "cell_type": "code",
   "execution_count": 12,
   "metadata": {
    "collapsed": false
   },
   "outputs": [
    {
     "name": "stdout",
     "output_type": "stream",
     "text": [
      "Ein: 0.0\n"
     ]
    }
   ],
   "source": [
    "x=np.array(x)\n",
    "Ein=0\n",
    "for k in range(len(x[0])):\n",
    "    if y[k]!=decisionTree_predict(tree,x[:,k]):\n",
    "        Ein+=1\n",
    "Ein/=len(x[0])\n",
    "print(\"Ein:\",Ein)"
   ]
  },
  {
   "cell_type": "code",
   "execution_count": 13,
   "metadata": {
    "collapsed": false
   },
   "outputs": [
    {
     "name": "stdout",
     "output_type": "stream",
     "text": [
      "Eout: 0.126\n"
     ]
    }
   ],
   "source": [
    "x2,y2 = read_data(\"../hw7_test.dat\",3)\n",
    "x2=np.array(x2)\n",
    "Eout=0\n",
    "for k in range(len(x2[0])):\n",
    "    if y2[k]!=decisionTree_predict(tree,x2[:,k]):\n",
    "        Eout+=1\n",
    "Eout/=len(x2[0])\n",
    "print(\"Eout:\",Eout)"
   ]
  },
  {
   "cell_type": "code",
   "execution_count": null,
   "metadata": {
    "collapsed": true
   },
   "outputs": [],
   "source": []
  }
 ],
 "metadata": {
  "kernelspec": {
   "display_name": "Python 3",
   "language": "python",
   "name": "python3"
  },
  "language_info": {
   "codemirror_mode": {
    "name": "ipython",
    "version": 3
   },
   "file_extension": ".py",
   "mimetype": "text/x-python",
   "name": "python",
   "nbconvert_exporter": "python",
   "pygments_lexer": "ipython3",
   "version": "3.5.0"
  }
 },
 "nbformat": 4,
 "nbformat_minor": 0
}
