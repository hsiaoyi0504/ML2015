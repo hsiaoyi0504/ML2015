{
 "cells": [
  {
   "cell_type": "code",
   "execution_count": 65,
   "metadata": {
    "collapsed": true
   },
   "outputs": [],
   "source": [
    "import numpy as np\n",
    "import math as math"
   ]
  },
  {
   "cell_type": "code",
   "execution_count": 66,
   "metadata": {
    "collapsed": false
   },
   "outputs": [],
   "source": [
    "dimensions=11\n",
    "gamma_list=[32,2,0.125]\n",
    "lambda_list=[0.001,1,1000]\n",
    "train_example_num=400"
   ]
  },
  {
   "cell_type": "code",
   "execution_count": 67,
   "metadata": {
    "collapsed": false
   },
   "outputs": [],
   "source": [
    "def sign(x):\n",
    "    if x>0:\n",
    "        return 1\n",
    "    elif x<0:\n",
    "        return -1"
   ]
  },
  {
   "cell_type": "code",
   "execution_count": 68,
   "metadata": {
    "collapsed": false
   },
   "outputs": [],
   "source": [
    "x=[]\n",
    "for i in range(dimensions-1):\n",
    "    x.append([])\n",
    "y=[]\n",
    "with open('../hw2_lssvm_all.dat') as file:\n",
    "    for line in file:\n",
    "        for i,value in enumerate(line.split()):\n",
    "            if i!=dimensions-1:\n",
    "                x[i].append(float(value))\n",
    "            else:\n",
    "                y.append(int(value))\n",
    "    file.close()"
   ]
  },
  {
   "cell_type": "code",
   "execution_count": 69,
   "metadata": {
    "collapsed": false
   },
   "outputs": [],
   "source": [
    "x=np.array(x)\n",
    "y=np.array(y)\n",
    "x_train=x[:,:train_example_num]\n",
    "y_train=y[:train_example_num]\n",
    "x_test=x[:,train_example_num:]\n",
    "y_test=y[train_example_num:]\n",
    "K=np.zeros((train_example_num,train_example_num))"
   ]
  },
  {
   "cell_type": "code",
   "execution_count": 70,
   "metadata": {
    "collapsed": false
   },
   "outputs": [
    {
     "name": "stdout",
     "output_type": "stream",
     "text": [
      "gamma: 32 lambda: 0.001 Ein: 0.0\n",
      "gamma: 32 lambda: 0.001 Eout: 0.45\n",
      "gamma: 2 lambda: 0.001 Ein: 0.0\n",
      "gamma: 2 lambda: 0.001 Eout: 0.44\n",
      "gamma: 0.125 lambda: 0.001 Ein: 0.0\n",
      "gamma: 0.125 lambda: 0.001 Eout: 0.46\n",
      "gamma: 32 lambda: 1 Ein: 0.0\n",
      "gamma: 32 lambda: 1 Eout: 0.45\n",
      "gamma: 2 lambda: 1 Ein: 0.0\n",
      "gamma: 2 lambda: 1 Eout: 0.44\n",
      "gamma: 0.125 lambda: 1 Ein: 0.03\n",
      "gamma: 0.125 lambda: 1 Eout: 0.45\n",
      "gamma: 32 lambda: 1000 Ein: 0.0\n",
      "gamma: 32 lambda: 1000 Eout: 0.45\n",
      "gamma: 2 lambda: 1000 Ein: 0.0\n",
      "gamma: 2 lambda: 1000 Eout: 0.44\n",
      "gamma: 0.125 lambda: 1000 Ein: 0.2425\n",
      "gamma: 0.125 lambda: 1000 Eout: 0.39\n"
     ]
    }
   ],
   "source": [
    "for l in lambda_list:\n",
    "    for g in gamma_list:\n",
    "        #training\n",
    "        for i in range(train_example_num):\n",
    "            for j in range(train_example_num):\n",
    "                temp=np.linalg.norm(x_train[:,i]-x_train[:,j])**2\n",
    "                K[i][j]=math.exp(-g*temp)\n",
    "        K=np.linalg.inv(l*np.identity(train_example_num)+K)\n",
    "        beta=np.dot(K,y_train)\n",
    "        #testing\n",
    "        #in sample\n",
    "        Ein=0\n",
    "        for n in range(len(x_train[0])):\n",
    "            weighting_sum=0\n",
    "            for i in range(train_example_num):\n",
    "                temp=np.linalg.norm(x_train[:,i]-x_train[:,n])**2\n",
    "                weighting_sum+=beta[i]*math.exp(-g*temp)\n",
    "            if sign(weighting_sum)!=y_train[n]:\n",
    "                Ein+=1\n",
    "        Ein/=len(x_train[0])\n",
    "        print('gamma:',g,'lambda:',l,'Ein:',Ein)\n",
    "        #out sample\n",
    "        Eout=0\n",
    "        for n in range(len(x_test[0])):\n",
    "            weighting_sum=0\n",
    "            for i in range(train_example_num):\n",
    "                temp=np.linalg.norm(x_train[:,i]-x_test[:,n])**2\n",
    "                weighting_sum+=beta[i]*math.exp(-g*temp)\n",
    "            if sign(weighting_sum)!=y_test[n]:\n",
    "                Eout+=1\n",
    "        Eout/=len(x_test[0])\n",
    "        print('gamma:',g,'lambda:',l,'Eout:',Eout)"
   ]
  }
 ],
 "metadata": {
  "kernelspec": {
   "display_name": "Python 3",
   "language": "python",
   "name": "python3"
  },
  "language_info": {
   "codemirror_mode": {
    "name": "ipython",
    "version": 3
   },
   "file_extension": ".py",
   "mimetype": "text/x-python",
   "name": "python",
   "nbconvert_exporter": "python",
   "pygments_lexer": "ipython3",
   "version": "3.5.0"
  }
 },
 "nbformat": 4,
 "nbformat_minor": 0
}
