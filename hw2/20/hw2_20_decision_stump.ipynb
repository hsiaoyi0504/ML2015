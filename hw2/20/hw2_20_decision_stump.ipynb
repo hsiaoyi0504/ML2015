{
 "cells": [
  {
   "cell_type": "code",
   "execution_count": 1,
   "metadata": {
    "collapsed": true
   },
   "outputs": [],
   "source": [
    "def sign(input):\n",
    "    if input>=0:\n",
    "        return 1;\n",
    "    else:\n",
    "        return -1;"
   ]
  },
  {
   "cell_type": "code",
   "execution_count": 2,
   "metadata": {
    "collapsed": true
   },
   "outputs": [],
   "source": [
    "dimensions=9\n",
    "size=100\n",
    "size2=1000"
   ]
  },
  {
   "cell_type": "code",
   "execution_count": 3,
   "metadata": {
    "collapsed": false
   },
   "outputs": [],
   "source": [
    "x=[]\n",
    "x2=[]\n",
    "for i in range(dimensions):\n",
    "    x.append([])\n",
    "    x2.append([])\n",
    "y=[]\n",
    "y2=[]"
   ]
  },
  {
   "cell_type": "code",
   "execution_count": 4,
   "metadata": {
    "collapsed": false
   },
   "outputs": [],
   "source": [
    "#read training data\n",
    "with open('../hw2_train.dat') as f:\n",
    "    for line in f:\n",
    "        for i,value in enumerate(line.split()):\n",
    "            if i<9:\n",
    "                x[i].append(float(value))\n",
    "            else:\n",
    "                y.append(int(value))\n",
    "    f.close()"
   ]
  },
  {
   "cell_type": "code",
   "execution_count": 5,
   "metadata": {
    "collapsed": false
   },
   "outputs": [
    {
     "name": "stdout",
     "output_type": "stream",
     "text": [
      "Optimal:i: 4 s: -1 theta: 1.6175000000000002 Ein 0.25\n"
     ]
    }
   ],
   "source": [
    "bestErrorTimes=size\n",
    "bestS=0\n",
    "bestTheta=0\n",
    "count1=0\n",
    "bestDimension=0\n",
    "for j in range(size):\n",
    "    if y[j]==1:\n",
    "        count1+=1\n",
    "for i in range(dimensions):\n",
    "    x_sorted=sorted(x[i])\n",
    "    x_median=[]\n",
    "    for j in range(size-1):\n",
    "        x_median.append((x_sorted[j]+x_sorted[j+1])/2)\n",
    "    if count1>size-count1:\n",
    "        if size-count1<bestErrorTimes:\n",
    "            bestS=1\n",
    "            bestTheta=x_sorted[0]-1\n",
    "            bestErrorTimes=size-count1\n",
    "            bestDimension=i\n",
    "    else:\n",
    "        if count1<bestErrorTimes:\n",
    "            bestS=1\n",
    "            bestTheta=x_sorted[-1]+1\n",
    "            bestErrorTimes=count1\n",
    "            bestDimension=i\n",
    "    for j in range(size-1):\n",
    "        theta=x_median[j]\n",
    "        for k in range(2):\n",
    "            if k==0:\n",
    "                s=1\n",
    "            else:\n",
    "                s=-1\n",
    "            errorTimes=0\n",
    "            for n in range(size):\n",
    "                if s*sign(x[i][n]-theta)!=y[n]:\n",
    "                    errorTimes+=1\n",
    "            if errorTimes<bestErrorTimes:\n",
    "                bestErrorTimes=errorTimes\n",
    "                bestS=s\n",
    "                bestTheta=theta\n",
    "                bestDimension=i\n",
    "print(\"Optimal:i:\",bestDimension+1,\"s:\",bestS,\"theta:\",bestTheta,\"Ein\",bestErrorTimes/size)"
   ]
  },
  {
   "cell_type": "code",
   "execution_count": 6,
   "metadata": {
    "collapsed": false
   },
   "outputs": [],
   "source": [
    "#read testing data\n",
    "with open('../hw2_test.dat') as f:\n",
    "    for line in f:\n",
    "        for i,value in enumerate(line.split()):\n",
    "            if i<9:\n",
    "                x2[i].append(float(value));\n",
    "            else:\n",
    "                y2.append(int(value));\n",
    "    f.close();"
   ]
  },
  {
   "cell_type": "code",
   "execution_count": 7,
   "metadata": {
    "collapsed": false
   },
   "outputs": [
    {
     "name": "stdout",
     "output_type": "stream",
     "text": [
      "Etest: 0.355\n"
     ]
    }
   ],
   "source": [
    "testErrorTimes=0\n",
    "for j in range(size2):\n",
    "    if bestS*sign(x2[bestDimension][j]-bestTheta)!=y2[j]:\n",
    "        testErrorTimes+=1\n",
    "print(\"Etest:\",testErrorTimes/size2)"
   ]
  }
 ],
 "metadata": {
  "kernelspec": {
   "display_name": "Python 3",
   "language": "python",
   "name": "python3"
  },
  "language_info": {
   "codemirror_mode": {
    "name": "ipython",
    "version": 3
   },
   "file_extension": ".py",
   "mimetype": "text/x-python",
   "name": "python",
   "nbconvert_exporter": "python",
   "pygments_lexer": "ipython3",
   "version": "3.3.5"
  }
 },
 "nbformat": 4,
 "nbformat_minor": 0
}
