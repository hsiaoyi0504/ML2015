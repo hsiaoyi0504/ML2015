{
 "cells": [
  {
   "cell_type": "code",
   "execution_count": 10,
   "metadata": {
    "collapsed": true
   },
   "outputs": [],
   "source": [
    "%matplotlib inline\n",
    "import random as rand\n",
    "import matplotlib.pyplot as plt"
   ]
  },
  {
   "cell_type": "code",
   "execution_count": 11,
   "metadata": {
    "collapsed": true
   },
   "outputs": [],
   "source": [
    "times=5000\n",
    "size=20"
   ]
  },
  {
   "cell_type": "code",
   "execution_count": 12,
   "metadata": {
    "collapsed": false
   },
   "outputs": [],
   "source": [
    "def sign(input):\n",
    "    if input>=0:\n",
    "        return 1;\n",
    "    else:\n",
    "        return -1;"
   ]
  },
  {
   "cell_type": "code",
   "execution_count": 13,
   "metadata": {
    "collapsed": false
   },
   "outputs": [],
   "source": [
    "errorRatesRecord=[]\n",
    "for i in range(times):\n",
    "    #Generate the data\n",
    "    x=[]\n",
    "    y=[]\n",
    "    for j in range(size):\n",
    "        x.append(rand.uniform(-1,1))\n",
    "        flip=rand.uniform(0,1)\n",
    "        if x[j]<0:\n",
    "            if flip>0.2:\n",
    "                y.append(-1)\n",
    "            else:\n",
    "                y.append(1)\n",
    "        else:\n",
    "            if flip>0.2:\n",
    "                y.append(1)\n",
    "            else:\n",
    "                y.append(-1)\n",
    "    #Run the decision stump algorithm\n",
    "    #print(x)\n",
    "    x_sorted=sorted(x)\n",
    "    x_median=[]\n",
    "    for j in range(size-1):\n",
    "        x_median.append((x_sorted[j]+x_sorted[j+1])/2)\n",
    "    bestErrorTimes=20;\n",
    "    bestS=0;\n",
    "    bestTheta=0;\n",
    "    errorTimes=0\n",
    "    count1=0;\n",
    "    for j in range(size):\n",
    "        if y[j]==1:\n",
    "            count1+=1\n",
    "    if count1>size-count1:\n",
    "        bestS=1\n",
    "        bestTheta=-2\n",
    "        bestErrorTimes=size-count1\n",
    "    else:\n",
    "        bestS=1\n",
    "        bestTheta=2\n",
    "        bestErrorTImes=count1\n",
    "    for j in range(size-1):\n",
    "        theta=x_median[j]\n",
    "        for k in range(2):\n",
    "            if k==0:\n",
    "                s=1\n",
    "            else:\n",
    "                s=-1\n",
    "            errorTimes=0\n",
    "            for n in range(size):\n",
    "                if s*sign(x[n]-theta)!=y[n]:\n",
    "                    errorTimes+=1\n",
    "            if errorTimes<bestErrorTimes:\n",
    "                bestErrorTimes=errorTimes\n",
    "                bestS=s\n",
    "                bestTheta=theta\n",
    "    #print(\"Ein:\",bestErrorTimes/size)\n",
    "    errorRatesRecord.append(0.5+0.3*bestS*(abs(bestTheta)-1))"
   ]
  },
  {
   "cell_type": "code",
   "execution_count": 14,
   "metadata": {
    "collapsed": false
   },
   "outputs": [
    {
     "name": "stdout",
     "output_type": "stream",
     "text": [
      "Average Eout: 0.2586578960664378\n"
     ]
    }
   ],
   "source": [
    "print(\"Average Eout:\",sum(errorRatesRecord)/times)"
   ]
  },
  {
   "cell_type": "code",
   "execution_count": 15,
   "metadata": {
    "collapsed": false
   },
   "outputs": [
    {
     "data": {
      "image/png": "[encoded data removed]",
      "text/plain": [
       "<matplotlib.figure.Figure at 0x10501a690>"
      ]
     },
     "metadata": {},
     "output_type": "display_data"
    }
   ],
   "source": [
    "plt.hist(errorRatesRecord)\n",
    "plt.title(\"Eout distribution\")\n",
    "plt.xlabel(\"Eout\")\n",
    "plt.ylabel(\"Frequency\")\n",
    "plt.show()"
   ]
  }
 ],
 "metadata": {
  "kernelspec": {
   "display_name": "Python 3",
   "language": "python",
   "name": "python3"
  },
  "language_info": {
   "codemirror_mode": {
    "name": "ipython",
    "version": 3
   },
   "file_extension": ".py",
   "mimetype": "text/x-python",
   "name": "python",
   "nbconvert_exporter": "python",
   "pygments_lexer": "ipython3",
   "version": "3.3.5"
  }
 },
 "nbformat": 4,
 "nbformat_minor": 0
}
