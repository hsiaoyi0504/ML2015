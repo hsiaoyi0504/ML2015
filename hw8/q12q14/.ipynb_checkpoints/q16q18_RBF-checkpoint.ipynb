{
 "cells": [
  {
   "cell_type": "code",
   "execution_count": 1,
   "metadata": {
    "collapsed": true
   },
   "outputs": [],
   "source": [
    "# %matplotlib inline\n",
    "import matplotlib.pyplot as plt\n",
    "import math as math"
   ]
  },
  {
   "cell_type": "code",
   "execution_count": 2,
   "metadata": {
    "collapsed": true
   },
   "outputs": [],
   "source": [
    "def sign(x):\n",
    "    if x>=0:\n",
    "        return 1\n",
    "    else:\n",
    "        return -1"
   ]
  },
  {
   "cell_type": "code",
   "execution_count": 3,
   "metadata": {
    "collapsed": true
   },
   "outputs": [],
   "source": [
    "def E_01(y_predict,y):\n",
    "    temp=[1/2*abs(a-b) for a,b in zip(y_predict,y)]\n",
    "    return sum(temp)/len(y)"
   ]
  },
  {
   "cell_type": "code",
   "execution_count": 4,
   "metadata": {
    "collapsed": true
   },
   "outputs": [],
   "source": [
    "def read_data(path,dimensions):\n",
    "    x=[]\n",
    "    y=[]\n",
    "    with open(path) as file:\n",
    "        for line in file:\n",
    "            x.append([])\n",
    "            for i,value in enumerate(line.split()):\n",
    "                if i!=dimensions-1:\n",
    "                    x[len(x)-1].append(float(value))\n",
    "                else:\n",
    "                    y.append(int(value))\n",
    "        file.close()\n",
    "    return (x,y)"
   ]
  },
  {
   "cell_type": "code",
   "execution_count": 5,
   "metadata": {
    "collapsed": false
   },
   "outputs": [],
   "source": [
    "def RBF_predict(x_train,y_train,x_test,gamma):\n",
    "    y_test_predict=[]\n",
    "    for i in range(len(x_test)):\n",
    "        predict=0\n",
    "        for j in range(len(x_train)):\n",
    "            temp = [a - b for a, b in zip(x_test[i], x_train[j])]\n",
    "            predict+=y_train[j]*math.exp(-gamma*sum([ i*i for i in temp]))\n",
    "        y_test_predict.append(sign(predict))\n",
    "    return y_test_predict"
   ]
  },
  {
   "cell_type": "code",
   "execution_count": 6,
   "metadata": {
    "collapsed": false
   },
   "outputs": [],
   "source": [
    "x_train, y_train = read_data(\"../hw8_train.dat\",10)\n",
    "x_test, y_test = read_data(\"../hw8_test.dat\",10)"
   ]
  },
  {
   "cell_type": "code",
   "execution_count": 7,
   "metadata": {
    "collapsed": false
   },
   "outputs": [],
   "source": [
    "gamma_list=list(range(-3,3))\n",
    "gamma_list=[10**i for i in gamma_list]"
   ]
  },
  {
   "cell_type": "code",
   "execution_count": 8,
   "metadata": {
    "collapsed": false
   },
   "outputs": [],
   "source": [
    "Ein_record=[]\n",
    "Eout_record=[]\n",
    "for gamma in gamma_list:\n",
    "    y_train_predict=RBF_predict(x_train,y_train,x_train,gamma)\n",
    "    Ein=E_01(y_train_predict,y_train)\n",
    "    Ein_record.append(Ein)\n",
    "    y_test_predict=RBF_predict(x_train,y_train,x_test,gamma)\n",
    "    Eout=E_01(y_test_predict,y_test)\n",
    "    Eout_record.append(Eout)"
   ]
  },
  {
   "cell_type": "code",
   "execution_count": 9,
   "metadata": {
    "collapsed": false
   },
   "outputs": [
    {
     "name": "stdout",
     "output_type": "stream",
     "text": [
      "[0.45, 0.45, 0.45, 0.02, 0.0, 0.0]\n"
     ]
    }
   ],
   "source": [
    "print(Ein_record)"
   ]
  },
  {
   "cell_type": "code",
   "execution_count": 10,
   "metadata": {
    "collapsed": false
   },
   "outputs": [
    {
     "name": "stdout",
     "output_type": "stream",
     "text": [
      "[0.467, 0.467, 0.448, 0.288, 0.346, 0.344]\n"
     ]
    }
   ],
   "source": [
    "print(Eout_record)"
   ]
  },
  {
   "cell_type": "code",
   "execution_count": 11,
   "metadata": {
    "collapsed": false
   },
   "outputs": [
    {
     "data": {
      "image/png": "[encoded data removed]",
      "text/plain": [
       "<matplotlib.figure.Figure at 0x10f348eb8>"
      ]
     },
     "metadata": {},
     "output_type": "display_data"
    }
   ],
   "source": [
    "plt.plot(gamma_list, Ein_record,\"o\")\n",
    "plt.ylabel(\"Ein\")\n",
    "plt.xlabel(\"gamma\")\n",
    "plt.xscale(\"log\")"
   ]
  },
  {
   "cell_type": "code",
   "execution_count": 12,
   "metadata": {
    "collapsed": false
   },
   "outputs": [
    {
     "data": {
      "image/png": "[encoded data removed]",
      "text/plain": [
       "<matplotlib.figure.Figure at 0x10f4f4978>"
      ]
     },
     "metadata": {},
     "output_type": "display_data"
    }
   ],
   "source": [
    "plt.plot(gamma_list, Eout_record,\"o\")\n",
    "plt.ylabel(\"Eout\")\n",
    "plt.xlabel(\"gamma\")\n",
    "plt.xscale(\"log\")"
   ]
  }
 ],
 "metadata": {
  "kernelspec": {
   "display_name": "Python 3",
   "language": "python",
   "name": "python3"
  },
  "language_info": {
   "codemirror_mode": {
    "name": "ipython",
    "version": 3
   },
   "file_extension": ".py",
   "mimetype": "text/x-python",
   "name": "python",
   "nbconvert_exporter": "python",
   "pygments_lexer": "ipython3",
   "version": "3.5.0"
  }
 },
 "nbformat": 4,
 "nbformat_minor": 0
}
