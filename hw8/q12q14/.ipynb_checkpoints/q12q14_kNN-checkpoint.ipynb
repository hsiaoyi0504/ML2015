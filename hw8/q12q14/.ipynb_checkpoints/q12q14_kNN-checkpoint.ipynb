{
 "cells": [
  {
   "cell_type": "code",
   "execution_count": 1,
   "metadata": {
    "collapsed": true
   },
   "outputs": [],
   "source": [
    "# %matplotlib inline\n",
    "import matplotlib.pyplot as plt"
   ]
  },
  {
   "cell_type": "code",
   "execution_count": 2,
   "metadata": {
    "collapsed": true
   },
   "outputs": [],
   "source": [
    "def sign(x):\n",
    "    if x>0:\n",
    "        return 1\n",
    "    else:\n",
    "        return -1"
   ]
  },
  {
   "cell_type": "code",
   "execution_count": 3,
   "metadata": {
    "collapsed": true
   },
   "outputs": [],
   "source": [
    "def E_01(y_predict,y):\n",
    "    temp=[1/2*abs(a-b) for a,b in zip(y_predict,y)]\n",
    "    return sum(temp)/len(y)"
   ]
  },
  {
   "cell_type": "code",
   "execution_count": 4,
   "metadata": {
    "collapsed": true
   },
   "outputs": [],
   "source": [
    "def read_data(path,dimensions):\n",
    "    x=[]\n",
    "    y=[]\n",
    "    with open(path) as file:\n",
    "        for line in file:\n",
    "            x.append([])\n",
    "            for i,value in enumerate(line.split()):\n",
    "                if i!=dimensions-1:\n",
    "                    x[len(x)-1].append(float(value))\n",
    "                else:\n",
    "                    y.append(int(value))\n",
    "        file.close()\n",
    "    return (x,y)"
   ]
  },
  {
   "cell_type": "code",
   "execution_count": 5,
   "metadata": {
    "collapsed": false
   },
   "outputs": [],
   "source": [
    "def kNN_predict(x_train,y_train,x_test,num_k):\n",
    "    y_test_predict=[]\n",
    "    big_num=100000\n",
    "    for i in range(len(x_test)):\n",
    "        kNN_distance=[big_num]*num_k\n",
    "        kNN_index=[0]*num_k\n",
    "        distance_max=big_num\n",
    "        distance_max_index=0\n",
    "        for j in range(len(x_train)):\n",
    "            temp = [a - b for a, b in zip(x_test[i], x_train[j])]\n",
    "            distance=sum([ i*i for i in temp])\n",
    "            if distance<distance_max:\n",
    "                temp=kNN_distance.index(distance_max)\n",
    "                kNN_distance[temp]=distance\n",
    "                kNN_index[temp]=j\n",
    "                distance_max=max(kNN_distance)\n",
    "                distance_max_index=kNN_distance.index(distance_max)\n",
    "        predict=0\n",
    "        for k in range(len(kNN_index)):\n",
    "            predict+=y_train[kNN_index[k]]\n",
    "        y_test_predict.append(sign(predict))\n",
    "    return y_test_predict"
   ]
  },
  {
   "cell_type": "code",
   "execution_count": 6,
   "metadata": {
    "collapsed": false
   },
   "outputs": [],
   "source": [
    "x_train, y_train = read_data(\"../hw8_train.dat\",10)\n",
    "x_test, y_test = read_data(\"../hw8_test.dat\",10)"
   ]
  },
  {
   "cell_type": "code",
   "execution_count": 7,
   "metadata": {
    "collapsed": false
   },
   "outputs": [],
   "source": [
    "k_list=[1,3,5,7,9]"
   ]
  },
  {
   "cell_type": "code",
   "execution_count": 8,
   "metadata": {
    "collapsed": false
   },
   "outputs": [],
   "source": [
    "Ein_record=[]\n",
    "Eout_record=[]\n",
    "for k in k_list:\n",
    "    y_train_predict=kNN_predict(x_train,y_train,x_train,k)\n",
    "    Ein=E_01(y_train_predict,y_train)\n",
    "    Ein_record.append(Ein)\n",
    "    y_test_predict=kNN_predict(x_train,y_train,x_test,k)\n",
    "    Eout=E_01(y_test_predict,y_test)\n",
    "    Eout_record.append(Eout)"
   ]
  },
  {
   "cell_type": "code",
   "execution_count": 9,
   "metadata": {
    "collapsed": false
   },
   "outputs": [
    {
     "name": "stdout",
     "output_type": "stream",
     "text": [
      "[0.0, 0.1, 0.16, 0.15, 0.14]\n"
     ]
    }
   ],
   "source": [
    "print(Ein_record)"
   ]
  },
  {
   "cell_type": "code",
   "execution_count": 10,
   "metadata": {
    "collapsed": false
   },
   "outputs": [
    {
     "name": "stdout",
     "output_type": "stream",
     "text": [
      "[0.344, 0.299, 0.316, 0.322, 0.303]\n"
     ]
    }
   ],
   "source": [
    "print(Eout_record)"
   ]
  },
  {
   "cell_type": "code",
   "execution_count": 13,
   "metadata": {
    "collapsed": false
   },
   "outputs": [
    {
     "data": {
      "text/plain": [
       "<matplotlib.text.Text at 0x110cda6d8>"
      ]
     },
     "execution_count": 13,
     "metadata": {},
     "output_type": "execute_result"
    },
    {
     "data": {
      "image/png": "[encoded data removed]",
      "text/plain": [
       "<matplotlib.figure.Figure at 0x110e48940>"
      ]
     },
     "metadata": {},
     "output_type": "display_data"
    }
   ],
   "source": [
    "plt.plot(k_list,Ein_record,\"o\")\n",
    "plt.ylabel(\"Ein\")\n",
    "plt.xlabel(\"k\")"
   ]
  },
  {
   "cell_type": "code",
   "execution_count": 14,
   "metadata": {
    "collapsed": false
   },
   "outputs": [
    {
     "data": {
      "text/plain": [
       "<matplotlib.text.Text at 0x110e82a58>"
      ]
     },
     "execution_count": 14,
     "metadata": {},
     "output_type": "execute_result"
    },
    {
     "data": {
      "image/png": "[encoded data removed]",
      "text/plain": [
       "<matplotlib.figure.Figure at 0x110f82a20>"
      ]
     },
     "metadata": {},
     "output_type": "display_data"
    }
   ],
   "source": [
    "plt.plot(k_list,Eout_record,\"o\")\n",
    "plt.ylabel(\"Eout\")\n",
    "plt.xlabel(\"k\")"
   ]
  },
  {
   "cell_type": "code",
   "execution_count": null,
   "metadata": {
    "collapsed": true
   },
   "outputs": [],
   "source": []
  }
 ],
 "metadata": {
  "kernelspec": {
   "display_name": "Python 3",
   "language": "python",
   "name": "python3"
  },
  "language_info": {
   "codemirror_mode": {
    "name": "ipython",
    "version": 3
   },
   "file_extension": ".py",
   "mimetype": "text/x-python",
   "name": "python",
   "nbconvert_exporter": "python",
   "pygments_lexer": "ipython3",
   "version": "3.5.0"
  }
 },
 "nbformat": 4,
 "nbformat_minor": 0
}
