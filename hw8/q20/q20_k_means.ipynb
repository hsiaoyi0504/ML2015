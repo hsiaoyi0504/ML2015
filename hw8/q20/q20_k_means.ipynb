{
 "cells": [
  {
   "cell_type": "code",
   "execution_count": 1,
   "metadata": {
    "collapsed": true
   },
   "outputs": [],
   "source": [
    "# %matplotlib inline\n",
    "import matplotlib.pyplot as plt\n",
    "import random as rand"
   ]
  },
  {
   "cell_type": "code",
   "execution_count": 2,
   "metadata": {
    "collapsed": true
   },
   "outputs": [],
   "source": [
    "def read_data(path):\n",
    "    x=[]\n",
    "    with open(path) as file:\n",
    "        for line in file:\n",
    "            x.append([])\n",
    "            for i,value in enumerate(line.split()):\n",
    "                x[len(x)-1].append(float(value))\n",
    "        file.close()\n",
    "    return x"
   ]
  },
  {
   "cell_type": "code",
   "execution_count": 3,
   "metadata": {
    "collapsed": false
   },
   "outputs": [],
   "source": [
    "x=read_data(\"../hw8_nolabel_train.dat\")"
   ]
  },
  {
   "cell_type": "code",
   "execution_count": 4,
   "metadata": {
    "collapsed": true
   },
   "outputs": [],
   "source": [
    "k_list=[2,4,6,8,10]\n",
    "times=500"
   ]
  },
  {
   "cell_type": "code",
   "execution_count": 5,
   "metadata": {
    "collapsed": false
   },
   "outputs": [],
   "source": [
    "Ein_record_avg=[]\n",
    "for k in k_list:\n",
    "    Ein_record=[]\n",
    "    for t in range(times):\n",
    "        mu_k_index=rand.sample(range(len(x)), k)\n",
    "        mu_k=[ x[i] for i in mu_k_index ]\n",
    "        cluster=[0]*len(x)\n",
    "        prev_cluster=[1]*len(x)\n",
    "        while True:\n",
    "            for i in range(len(x)):\n",
    "                distance=[0]*k\n",
    "                for j in range(len(mu_k)):\n",
    "                    distance[j]=sum([(a-b)*(a-b) for a,b in zip(x[i],mu_k[j])])\n",
    "                cluster[i]=distance.index(min(distance))\n",
    "            if prev_cluster==cluster:\n",
    "                break\n",
    "            else:\n",
    "                prev_cluster=cluster.copy()\n",
    "            for j in range(k):\n",
    "                indexes= [i for i, value in enumerate(cluster) if value == j]\n",
    "                temp =[ x[i] for i in indexes]\n",
    "                for n in range(1,len(temp)):\n",
    "                    temp[0]=[temp[0][i]+temp[n][i] for i in range(len(temp[0]))]\n",
    "                mu_k[j]=temp[0].copy()\n",
    "                mu_k[j]=[ i/len(temp) for i in mu_k[j] ]\n",
    "        Ein=0\n",
    "        for i in range(len(x)):\n",
    "            temp=[x[i][j]-mu_k[cluster[i]][j] for j in range(len(x[0]))]\n",
    "            temp=[j*j for j in temp]\n",
    "            Ein+=sum(temp)\n",
    "        Ein/=len(x)\n",
    "        Ein_record.append(Ein)\n",
    "    Ein_record_avg.append(sum(Ein_record)/len(Ein_record))"
   ]
  },
  {
   "cell_type": "code",
   "execution_count": 6,
   "metadata": {
    "collapsed": false
   },
   "outputs": [
    {
     "data": {
      "text/plain": [
       "<matplotlib.text.Text at 0x107f58d30>"
      ]
     },
     "execution_count": 6,
     "metadata": {},
     "output_type": "execute_result"
    },
    {
     "data": {
      "image/png": "[encoded data removed]",
      "text/plain": [
       "<matplotlib.figure.Figure at 0x10a8b2780>"
      ]
     },
     "metadata": {},
     "output_type": "display_data"
    }
   ],
   "source": [
    "plt.plot(k_list,Ein_record_avg,\"o\")\n",
    "plt.ylabel(\"Ein\")\n",
    "plt.xlabel(\"k\")"
   ]
  },
  {
   "cell_type": "code",
   "execution_count": 7,
   "metadata": {
    "collapsed": false
   },
   "outputs": [
    {
     "name": "stdout",
     "output_type": "stream",
     "text": [
      "[2.6747701328123807, 2.2654913994206884, 1.993585214527386, 1.8086047786732224, 1.6641049388303406]\n"
     ]
    }
   ],
   "source": [
    "print(Ein_record_avg)"
   ]
  }
 ],
 "metadata": {
  "kernelspec": {
   "display_name": "Python 3",
   "language": "python",
   "name": "python3"
  },
  "language_info": {
   "codemirror_mode": {
    "name": "ipython",
    "version": 3
   },
   "file_extension": ".py",
   "mimetype": "text/x-python",
   "name": "python",
   "nbconvert_exporter": "python",
   "pygments_lexer": "ipython3",
   "version": "3.5.0"
  }
 },
 "nbformat": 4,
 "nbformat_minor": 0
}
